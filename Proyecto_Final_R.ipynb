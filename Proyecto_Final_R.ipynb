{
  "nbformat": 4,
  "nbformat_minor": 0,
  "metadata": {
    "colab": {
      "provenance": [],
      "include_colab_link": true
    },
    "kernelspec": {
      "name": "ir",
      "display_name": "R"
    },
    "language_info": {
      "name": "R"
    }
  },
  "cells": [
    {
      "cell_type": "markdown",
      "metadata": {
        "id": "view-in-github",
        "colab_type": "text"
      },
      "source": [
        "<a href=\"https://colab.research.google.com/github/rafa-cc/Proyecto-Final-R/blob/main/Proyecto_Final_R.ipynb\" target=\"_parent\"><img src=\"https://colab.research.google.com/assets/colab-badge.svg\" alt=\"Open In Colab\"/></a>"
      ]
    },
    {
      "cell_type": "markdown",
      "source": [
        "# __Análisis de Productos de Amazon__\n",
        "__📝 Descripción:__\n",
        "\n",
        "> En este proyecto se usan datos sobre productos de comestibles de Amazon. Se cuenta con columnas como cifras de ventas, ingresos, dimensiones del producto, calificaciones y otras métricas esenciales.\n",
        "\n",
        "__🎯 Objetivos:__\n",
        "> - Clasificar los productos en categorías de tamaño basado en sus dimensiones.\n",
        "- Proponer dimensiones para el empaquetado más óptimo en cada categoría.\n",
        "- Probar si la calificación promedio de los clientes afecta las ventas.\n",
        "- Examinar cómo se relaciona el precio con otras variables.\n",
        "- Analizar la estacionalidad de las ventas.\n",
        "- Clasificar los productos en categorías de alto, medio o bajo rendimiento basado en sus características.\n",
        "\n",
        "\n",
        "El trabajo está divido en las siguientes secciones:\n",
        "\n",
        "◉ _Librerías_  ◉ _Importación_  ◉ _Análisis Exploratorio (EDA)_  ◉ _Ingeniería de Variables_  ◉ _Análisis de Empaquetado_"
      ],
      "metadata": {
        "id": "BP_M3QWD-dvi"
      }
    },
    {
      "cell_type": "markdown",
      "source": [
        "## __Librerías__"
      ],
      "metadata": {
        "id": "oLOBm94aNaKM"
      }
    },
    {
      "cell_type": "code",
      "source": [
        "install.packages(\"e1071\")\n",
        "library(dplyr)\n",
        "library(ggplot2)\n",
        "library(e1071)\n",
        "library(cluster)"
      ],
      "metadata": {
        "id": "Xkou0v-ONeiT",
        "colab": {
          "base_uri": "https://localhost:8080/"
        },
        "outputId": "fc20ffca-5df3-4bc7-9c1a-0f6b40fe146a"
      },
      "execution_count": null,
      "outputs": [
        {
          "output_type": "stream",
          "name": "stderr",
          "text": [
            "Installing package into ‘/usr/local/lib/R/site-library’\n",
            "(as ‘lib’ is unspecified)\n",
            "\n",
            "also installing the dependency ‘proxy’\n",
            "\n",
            "\n",
            "\n",
            "Attaching package: ‘dplyr’\n",
            "\n",
            "\n",
            "The following objects are masked from ‘package:stats’:\n",
            "\n",
            "    filter, lag\n",
            "\n",
            "\n",
            "The following objects are masked from ‘package:base’:\n",
            "\n",
            "    intersect, setdiff, setequal, union\n",
            "\n",
            "\n"
          ]
        }
      ]
    },
    {
      "cell_type": "markdown",
      "source": [
        "## __Importación__"
      ],
      "metadata": {
        "id": "bTIN46rmNnn0"
      }
    },
    {
      "cell_type": "markdown",
      "source": [
        "💡 El data set se encuentra [aquí](https://github.com/rafa-cc/Proyecto-Final-R/blob/main/dataset.csv)"
      ],
      "metadata": {
        "id": "LUAEHIQ5r8VP"
      }
    },
    {
      "cell_type": "code",
      "execution_count": null,
      "metadata": {
        "id": "4Z61RnWV-D1G"
      },
      "outputs": [],
      "source": [
        "# El dataset se encuentra en el repositorio del proyecto\n",
        "# Parece que el link se actualiza, volver a copiarlo si es necesario\n",
        "df_raw <- read.csv(\"https://raw.githubusercontent.com/rafa-cc/Proyecto-Final-R/main/dataset.csv\")"
      ]
    },
    {
      "cell_type": "markdown",
      "source": [
        "## __Análisis Exploratorio__"
      ],
      "metadata": {
        "id": "bBZS9EXPOMAn"
      }
    },
    {
      "cell_type": "code",
      "source": [
        "head(df_raw)"
      ],
      "metadata": {
        "colab": {
          "base_uri": "https://localhost:8080/",
          "height": 705
        },
        "id": "Ezn_Q27FTKnA",
        "outputId": "73205438-341f-4225-8edc-ae8cde5913c3"
      },
      "execution_count": null,
      "outputs": [
        {
          "output_type": "display_data",
          "data": {
            "text/html": [
              "<table class=\"dataframe\">\n",
              "<caption>A data.frame: 6 × 20</caption>\n",
              "<thead>\n",
              "\t<tr><th></th><th scope=col>Product.Details</th><th scope=col>ASIN</th><th scope=col>Brand</th><th scope=col>Price</th><th scope=col>Sales</th><th scope=col>Revenue</th><th scope=col>BSR</th><th scope=col>FBA.Fees</th><th scope=col>Active.Sellers..</th><th scope=col>Ratings</th><th scope=col>Review.Count</th><th scope=col>Images</th><th scope=col>Review.velocity</th><th scope=col>Buy.Box</th><th scope=col>Category</th><th scope=col>Size.Tier</th><th scope=col>Delivery</th><th scope=col>Dimensions</th><th scope=col>Weight</th><th scope=col>Creation.Date</th></tr>\n",
              "\t<tr><th></th><th scope=col>&lt;chr&gt;</th><th scope=col>&lt;chr&gt;</th><th scope=col>&lt;chr&gt;</th><th scope=col>&lt;dbl&gt;</th><th scope=col>&lt;int&gt;</th><th scope=col>&lt;int&gt;</th><th scope=col>&lt;int&gt;</th><th scope=col>&lt;dbl&gt;</th><th scope=col>&lt;int&gt;</th><th scope=col>&lt;int&gt;</th><th scope=col>&lt;int&gt;</th><th scope=col>&lt;int&gt;</th><th scope=col>&lt;int&gt;</th><th scope=col>&lt;chr&gt;</th><th scope=col>&lt;chr&gt;</th><th scope=col>&lt;chr&gt;</th><th scope=col>&lt;chr&gt;</th><th scope=col>&lt;chr&gt;</th><th scope=col>&lt;dbl&gt;</th><th scope=col>&lt;chr&gt;</th></tr>\n",
              "</thead>\n",
              "<tbody>\n",
              "\t<tr><th scope=row>1</th><td>Lindt Lindor Milk Chocolate Truffles Box - The Ideal Gift - Chocolate Balls with a Smooth Melting Filling, 200 g</td><td>B00NW479QO</td><td>Lindt  </td><td> 3.50</td><td>13466</td><td> 47131</td><td>3</td><td> 2.62</td><td>30</td><td>5</td><td>44069</td><td>12</td><td>868</td><td>Amazon     </td><td>Food Cupboard       </td><td>Small Oversize</td><td>AMZ</td><td>4.2x6.3x3.1   </td><td>0.51</td><td>9/26/2014 </td></tr>\n",
              "\t<tr><th scope=row>2</th><td>Andrex Toilet Roll - Gentle Clean Toilet Paper, 45 Toilet Rolls                                                 </td><td>B004OCO20E</td><td>Andrex </td><td>18.28</td><td>13338</td><td>243819</td><td>2</td><td> 8.38</td><td>30</td><td>5</td><td>40397</td><td> 5</td><td>830</td><td>Amazon     </td><td>Grocery             </td><td>Large Oversize</td><td>AMZ</td><td>13.5x21.8x13.0</td><td>9.77</td><td>2/17/2011 </td></tr>\n",
              "\t<tr><th scope=row>3</th><td><span style=white-space:pre-wrap>Baileys Original Irish Cream Liqueur 1L                                                                         </span></td><td>B0049NYI7K</td><td>BAILEYS</td><td> 9.99</td><td>11194</td><td>111828</td><td>4</td><td> 3.93</td><td>22</td><td>5</td><td> 3827</td><td> 6</td><td>235</td><td><span style=white-space:pre-wrap>Amazon     </span></td><td>Beer, Wine &amp; Spirits</td><td>Large Oversize</td><td>AMZ</td><td><span style=white-space:pre-wrap>3.7x12.2x3.7  </span></td><td>3.73</td><td>10/21/2010</td></tr>\n",
              "\t<tr><th scope=row>4</th><td><span style=white-space:pre-wrap>Tassimo Kenco Americano Grande Coffee Pods (Pack of 5, Total 80 Coffee Capsules)                                </span></td><td>B016DEGFWI</td><td>Tassimo</td><td>14.87</td><td>13492</td><td>200626</td><td>2</td><td> 5.19</td><td>11</td><td>5</td><td>28800</td><td> 5</td><td>466</td><td><span style=white-space:pre-wrap>Amazon     </span></td><td><span style=white-space:pre-wrap>Fresh &amp; Chilled     </span></td><td>Large Oversize</td><td>AMZ</td><td><span style=white-space:pre-wrap>6.8x15.5x6.2  </span></td><td>3.26</td><td><span style=white-space:pre-wrap>8/4/2010  </span></td></tr>\n",
              "\t<tr><th scope=row>5</th><td>Tassimo Costa Gingerbread Latte Coffee Pods (Pack of 5, Total 40 Coffee Capsules)                               </td><td>B07JVF2FCV</td><td>Tassimo</td><td>45.00</td><td>13377</td><td>601965</td><td>6</td><td>11.03</td><td> 1</td><td>5</td><td>27494</td><td> 9</td><td>223</td><td>Bountyville</td><td>Drinks              </td><td>Large Oversize</td><td>FBA</td><td>6.7x15.4x6.1  </td><td>4.74</td><td>9/3/2018  </td></tr>\n",
              "\t<tr><th scope=row>6</th><td>Regina XXL Kitchen Roll, 8 Rolls, 600 Extra Large Sheets                                                        </td><td>B07T2SCHM7</td><td>Regina </td><td> 8.00</td><td>11983</td><td> 95864</td><td>5</td><td> 6.16</td><td>21</td><td>5</td><td>11120</td><td> 6</td><td>701</td><td>           </td><td>Grocery             </td><td>Large Oversize</td><td>MFN</td><td>10.6x34.6x5.1 </td><td>5.34</td><td>5/1/2020  </td></tr>\n",
              "</tbody>\n",
              "</table>\n"
            ],
            "text/markdown": "\nA data.frame: 6 × 20\n\n| <!--/--> | Product.Details &lt;chr&gt; | ASIN &lt;chr&gt; | Brand &lt;chr&gt; | Price &lt;dbl&gt; | Sales &lt;int&gt; | Revenue &lt;int&gt; | BSR &lt;int&gt; | FBA.Fees &lt;dbl&gt; | Active.Sellers.. &lt;int&gt; | Ratings &lt;int&gt; | Review.Count &lt;int&gt; | Images &lt;int&gt; | Review.velocity &lt;int&gt; | Buy.Box &lt;chr&gt; | Category &lt;chr&gt; | Size.Tier &lt;chr&gt; | Delivery &lt;chr&gt; | Dimensions &lt;chr&gt; | Weight &lt;dbl&gt; | Creation.Date &lt;chr&gt; |\n|---|---|---|---|---|---|---|---|---|---|---|---|---|---|---|---|---|---|---|---|---|\n| 1 | Lindt Lindor Milk Chocolate Truffles Box - The Ideal Gift - Chocolate Balls with a Smooth Melting Filling, 200 g | B00NW479QO | Lindt   |  3.50 | 13466 |  47131 | 3 |  2.62 | 30 | 5 | 44069 | 12 | 868 | Amazon      | Food Cupboard        | Small Oversize | AMZ | 4.2x6.3x3.1    | 0.51 | 9/26/2014  |\n| 2 | Andrex Toilet Roll - Gentle Clean Toilet Paper, 45 Toilet Rolls                                                  | B004OCO20E | Andrex  | 18.28 | 13338 | 243819 | 2 |  8.38 | 30 | 5 | 40397 |  5 | 830 | Amazon      | Grocery              | Large Oversize | AMZ | 13.5x21.8x13.0 | 9.77 | 2/17/2011  |\n| 3 | Baileys Original Irish Cream Liqueur 1L                                                                          | B0049NYI7K | BAILEYS |  9.99 | 11194 | 111828 | 4 |  3.93 | 22 | 5 |  3827 |  6 | 235 | Amazon      | Beer, Wine &amp; Spirits | Large Oversize | AMZ | 3.7x12.2x3.7   | 3.73 | 10/21/2010 |\n| 4 | Tassimo Kenco Americano Grande Coffee Pods (Pack of 5, Total 80 Coffee Capsules)                                 | B016DEGFWI | Tassimo | 14.87 | 13492 | 200626 | 2 |  5.19 | 11 | 5 | 28800 |  5 | 466 | Amazon      | Fresh &amp; Chilled      | Large Oversize | AMZ | 6.8x15.5x6.2   | 3.26 | 8/4/2010   |\n| 5 | Tassimo Costa Gingerbread Latte Coffee Pods (Pack of 5, Total 40 Coffee Capsules)                                | B07JVF2FCV | Tassimo | 45.00 | 13377 | 601965 | 6 | 11.03 |  1 | 5 | 27494 |  9 | 223 | Bountyville | Drinks               | Large Oversize | FBA | 6.7x15.4x6.1   | 4.74 | 9/3/2018   |\n| 6 | Regina XXL Kitchen Roll, 8 Rolls, 600 Extra Large Sheets                                                         | B07T2SCHM7 | Regina  |  8.00 | 11983 |  95864 | 5 |  6.16 | 21 | 5 | 11120 |  6 | 701 | <!----> | Grocery              | Large Oversize | MFN | 10.6x34.6x5.1  | 5.34 | 5/1/2020   |\n\n",
            "text/latex": "A data.frame: 6 × 20\n\\begin{tabular}{r|llllllllllllllllllll}\n  & Product.Details & ASIN & Brand & Price & Sales & Revenue & BSR & FBA.Fees & Active.Sellers.. & Ratings & Review.Count & Images & Review.velocity & Buy.Box & Category & Size.Tier & Delivery & Dimensions & Weight & Creation.Date\\\\\n  & <chr> & <chr> & <chr> & <dbl> & <int> & <int> & <int> & <dbl> & <int> & <int> & <int> & <int> & <int> & <chr> & <chr> & <chr> & <chr> & <chr> & <dbl> & <chr>\\\\\n\\hline\n\t1 & Lindt Lindor Milk Chocolate Truffles Box - The Ideal Gift - Chocolate Balls with a Smooth Melting Filling, 200 g & B00NW479QO & Lindt   &  3.50 & 13466 &  47131 & 3 &  2.62 & 30 & 5 & 44069 & 12 & 868 & Amazon      & Food Cupboard        & Small Oversize & AMZ & 4.2x6.3x3.1    & 0.51 & 9/26/2014 \\\\\n\t2 & Andrex Toilet Roll - Gentle Clean Toilet Paper, 45 Toilet Rolls                                                  & B004OCO20E & Andrex  & 18.28 & 13338 & 243819 & 2 &  8.38 & 30 & 5 & 40397 &  5 & 830 & Amazon      & Grocery              & Large Oversize & AMZ & 13.5x21.8x13.0 & 9.77 & 2/17/2011 \\\\\n\t3 & Baileys Original Irish Cream Liqueur 1L                                                                          & B0049NYI7K & BAILEYS &  9.99 & 11194 & 111828 & 4 &  3.93 & 22 & 5 &  3827 &  6 & 235 & Amazon      & Beer, Wine \\& Spirits & Large Oversize & AMZ & 3.7x12.2x3.7   & 3.73 & 10/21/2010\\\\\n\t4 & Tassimo Kenco Americano Grande Coffee Pods (Pack of 5, Total 80 Coffee Capsules)                                 & B016DEGFWI & Tassimo & 14.87 & 13492 & 200626 & 2 &  5.19 & 11 & 5 & 28800 &  5 & 466 & Amazon      & Fresh \\& Chilled      & Large Oversize & AMZ & 6.8x15.5x6.2   & 3.26 & 8/4/2010  \\\\\n\t5 & Tassimo Costa Gingerbread Latte Coffee Pods (Pack of 5, Total 40 Coffee Capsules)                                & B07JVF2FCV & Tassimo & 45.00 & 13377 & 601965 & 6 & 11.03 &  1 & 5 & 27494 &  9 & 223 & Bountyville & Drinks               & Large Oversize & FBA & 6.7x15.4x6.1   & 4.74 & 9/3/2018  \\\\\n\t6 & Regina XXL Kitchen Roll, 8 Rolls, 600 Extra Large Sheets                                                         & B07T2SCHM7 & Regina  &  8.00 & 11983 &  95864 & 5 &  6.16 & 21 & 5 & 11120 &  6 & 701 &             & Grocery              & Large Oversize & MFN & 10.6x34.6x5.1  & 5.34 & 5/1/2020  \\\\\n\\end{tabular}\n",
            "text/plain": [
              "  Product.Details                                                                                                 \n",
              "1 Lindt Lindor Milk Chocolate Truffles Box - The Ideal Gift - Chocolate Balls with a Smooth Melting Filling, 200 g\n",
              "2 Andrex Toilet Roll - Gentle Clean Toilet Paper, 45 Toilet Rolls                                                 \n",
              "3 Baileys Original Irish Cream Liqueur 1L                                                                         \n",
              "4 Tassimo Kenco Americano Grande Coffee Pods (Pack of 5, Total 80 Coffee Capsules)                                \n",
              "5 Tassimo Costa Gingerbread Latte Coffee Pods (Pack of 5, Total 40 Coffee Capsules)                               \n",
              "6 Regina XXL Kitchen Roll, 8 Rolls, 600 Extra Large Sheets                                                        \n",
              "  ASIN       Brand   Price Sales Revenue BSR FBA.Fees Active.Sellers.. Ratings\n",
              "1 B00NW479QO Lindt    3.50 13466  47131  3    2.62    30               5      \n",
              "2 B004OCO20E Andrex  18.28 13338 243819  2    8.38    30               5      \n",
              "3 B0049NYI7K BAILEYS  9.99 11194 111828  4    3.93    22               5      \n",
              "4 B016DEGFWI Tassimo 14.87 13492 200626  2    5.19    11               5      \n",
              "5 B07JVF2FCV Tassimo 45.00 13377 601965  6   11.03     1               5      \n",
              "6 B07T2SCHM7 Regina   8.00 11983  95864  5    6.16    21               5      \n",
              "  Review.Count Images Review.velocity Buy.Box     Category            \n",
              "1 44069        12     868             Amazon      Food Cupboard       \n",
              "2 40397         5     830             Amazon      Grocery             \n",
              "3  3827         6     235             Amazon      Beer, Wine & Spirits\n",
              "4 28800         5     466             Amazon      Fresh & Chilled     \n",
              "5 27494         9     223             Bountyville Drinks              \n",
              "6 11120         6     701                         Grocery             \n",
              "  Size.Tier      Delivery Dimensions     Weight Creation.Date\n",
              "1 Small Oversize AMZ      4.2x6.3x3.1    0.51   9/26/2014    \n",
              "2 Large Oversize AMZ      13.5x21.8x13.0 9.77   2/17/2011    \n",
              "3 Large Oversize AMZ      3.7x12.2x3.7   3.73   10/21/2010   \n",
              "4 Large Oversize AMZ      6.8x15.5x6.2   3.26   8/4/2010     \n",
              "5 Large Oversize FBA      6.7x15.4x6.1   4.74   9/3/2018     \n",
              "6 Large Oversize MFN      10.6x34.6x5.1  5.34   5/1/2020     "
            ]
          },
          "metadata": {}
        }
      ]
    },
    {
      "cell_type": "code",
      "source": [
        "names(df_raw)"
      ],
      "metadata": {
        "colab": {
          "base_uri": "https://localhost:8080/",
          "height": 52
        },
        "id": "PkpbxOPCOQgx",
        "outputId": "3ffdc6cd-bbef-4923-d524-73e33ec52a9e"
      },
      "execution_count": null,
      "outputs": [
        {
          "output_type": "display_data",
          "data": {
            "text/html": [
              "<style>\n",
              ".list-inline {list-style: none; margin:0; padding: 0}\n",
              ".list-inline>li {display: inline-block}\n",
              ".list-inline>li:not(:last-child)::after {content: \"\\00b7\"; padding: 0 .5ex}\n",
              "</style>\n",
              "<ol class=list-inline><li>'Product.Details'</li><li>'ASIN'</li><li>'Brand'</li><li>'Price'</li><li>'Sales'</li><li>'Revenue'</li><li>'BSR'</li><li>'FBA.Fees'</li><li>'Active.Sellers..'</li><li>'Ratings'</li><li>'Review.Count'</li><li>'Images'</li><li>'Review.velocity'</li><li>'Buy.Box'</li><li>'Category'</li><li>'Size.Tier'</li><li>'Delivery'</li><li>'Dimensions'</li><li>'Weight'</li><li>'Creation.Date'</li></ol>\n"
            ],
            "text/markdown": "1. 'Product.Details'\n2. 'ASIN'\n3. 'Brand'\n4. 'Price'\n5. 'Sales'\n6. 'Revenue'\n7. 'BSR'\n8. 'FBA.Fees'\n9. 'Active.Sellers..'\n10. 'Ratings'\n11. 'Review.Count'\n12. 'Images'\n13. 'Review.velocity'\n14. 'Buy.Box'\n15. 'Category'\n16. 'Size.Tier'\n17. 'Delivery'\n18. 'Dimensions'\n19. 'Weight'\n20. 'Creation.Date'\n\n\n",
            "text/latex": "\\begin{enumerate*}\n\\item 'Product.Details'\n\\item 'ASIN'\n\\item 'Brand'\n\\item 'Price'\n\\item 'Sales'\n\\item 'Revenue'\n\\item 'BSR'\n\\item 'FBA.Fees'\n\\item 'Active.Sellers..'\n\\item 'Ratings'\n\\item 'Review.Count'\n\\item 'Images'\n\\item 'Review.velocity'\n\\item 'Buy.Box'\n\\item 'Category'\n\\item 'Size.Tier'\n\\item 'Delivery'\n\\item 'Dimensions'\n\\item 'Weight'\n\\item 'Creation.Date'\n\\end{enumerate*}\n",
            "text/plain": [
              " [1] \"Product.Details\"  \"ASIN\"             \"Brand\"            \"Price\"           \n",
              " [5] \"Sales\"            \"Revenue\"          \"BSR\"              \"FBA.Fees\"        \n",
              " [9] \"Active.Sellers..\" \"Ratings\"          \"Review.Count\"     \"Images\"          \n",
              "[13] \"Review.velocity\"  \"Buy.Box\"          \"Category\"         \"Size.Tier\"       \n",
              "[17] \"Delivery\"         \"Dimensions\"       \"Weight\"           \"Creation.Date\"   "
            ]
          },
          "metadata": {}
        }
      ]
    },
    {
      "cell_type": "code",
      "source": [
        "unique(df_raw$Size.Tier)"
      ],
      "metadata": {
        "colab": {
          "base_uri": "https://localhost:8080/",
          "height": 34
        },
        "id": "_W5uu640ekxy",
        "outputId": "2fb11f4d-5f18-4e65-f6c8-f6a1bc7a3971"
      },
      "execution_count": null,
      "outputs": [
        {
          "output_type": "display_data",
          "data": {
            "text/html": [
              "<style>\n",
              ".list-inline {list-style: none; margin:0; padding: 0}\n",
              ".list-inline>li {display: inline-block}\n",
              ".list-inline>li:not(:last-child)::after {content: \"\\00b7\"; padding: 0 .5ex}\n",
              "</style>\n",
              "<ol class=list-inline><li>'Small Oversize'</li><li>'Large Oversize'</li><li>'Standard Parcel'</li><li>''</li><li>'Large Envelope'</li><li>'Small Envelope'</li><li>'Standard Envelope'</li><li>'Large Letter'</li></ol>\n"
            ],
            "text/markdown": "1. 'Small Oversize'\n2. 'Large Oversize'\n3. 'Standard Parcel'\n4. ''\n5. 'Large Envelope'\n6. 'Small Envelope'\n7. 'Standard Envelope'\n8. 'Large Letter'\n\n\n",
            "text/latex": "\\begin{enumerate*}\n\\item 'Small Oversize'\n\\item 'Large Oversize'\n\\item 'Standard Parcel'\n\\item ''\n\\item 'Large Envelope'\n\\item 'Small Envelope'\n\\item 'Standard Envelope'\n\\item 'Large Letter'\n\\end{enumerate*}\n",
            "text/plain": [
              "[1] \"Small Oversize\"    \"Large Oversize\"    \"Standard Parcel\"  \n",
              "[4] \"\"                  \"Large Envelope\"    \"Small Envelope\"   \n",
              "[7] \"Standard Envelope\" \"Large Letter\"     "
            ]
          },
          "metadata": {}
        }
      ]
    },
    {
      "cell_type": "code",
      "source": [
        "# Descartar las columnas que no son de interés y dividir la columna 'Dimensions' en 'Length', 'Width' y 'Height'\n",
        "\n",
        "df_temp <- select(df_raw,-Brand, -ASIN, -Review.velocity,-Size.Tier, -Images, -Buy.Box, -Delivery, -Weight, -FBA.Fees) %>%\n",
        "      tidyr::separate(Dimensions, into = c(\"Length\", \"Width\", \"Height\"), sep = \"x\", convert = TRUE)\n",
        "names(df)"
      ],
      "metadata": {
        "colab": {
          "base_uri": "https://localhost:8080/",
          "height": 106
        },
        "id": "8QGHumHRT2BE",
        "outputId": "57da9fe1-9fd4-4b9d-ac66-4210dd0b66d2"
      },
      "execution_count": null,
      "outputs": [
        {
          "output_type": "stream",
          "name": "stderr",
          "text": [
            "Warning message:\n",
            "“\u001b[1m\u001b[22mExpected 3 pieces. Missing pieces filled with `NA` in 1516 rows [51, 62, 66,\n",
            "99, 114, 131, 147, 191, 203, 209, 212, 213, 218, 226, 227, 229, 231, 232, 234,\n",
            "235, ...].”\n"
          ]
        },
        {
          "output_type": "display_data",
          "data": {
            "text/plain": [
              "NULL"
            ]
          },
          "metadata": {}
        }
      ]
    },
    {
      "cell_type": "code",
      "source": [
        "# Contar los datos nulos en cada columna\n",
        "sapply(df_temp, function(x) sum(is.na(x)))"
      ],
      "metadata": {
        "colab": {
          "base_uri": "https://localhost:8080/",
          "height": 52
        },
        "id": "VhQI5KFkXMTA",
        "outputId": "bfdd5045-8ab3-417e-8765-c2ec8825805b"
      },
      "execution_count": null,
      "outputs": [
        {
          "output_type": "display_data",
          "data": {
            "text/html": [
              "<style>\n",
              ".dl-inline {width: auto; margin:0; padding: 0}\n",
              ".dl-inline>dt, .dl-inline>dd {float: none; width: auto; display: inline-block}\n",
              ".dl-inline>dt::after {content: \":\\0020\"; padding-right: .5ex}\n",
              ".dl-inline>dt:not(:first-of-type) {padding-left: .5ex}\n",
              "</style><dl class=dl-inline><dt>Product.Details</dt><dd>0</dd><dt>Price</dt><dd>1264</dd><dt>Sales</dt><dd>1802</dd><dt>Revenue</dt><dd>1511</dd><dt>BSR</dt><dd>453</dd><dt>Active.Sellers..</dt><dd>51</dd><dt>Ratings</dt><dd>828</dd><dt>Review.Count</dt><dd>828</dd><dt>Category</dt><dd>0</dd><dt>Length</dt><dd>1516</dd><dt>Width</dt><dd>1516</dd><dt>Height</dt><dd>1516</dd><dt>Creation.Date</dt><dd>0</dd></dl>\n"
            ],
            "text/markdown": "Product.Details\n:   0Price\n:   1264Sales\n:   1802Revenue\n:   1511BSR\n:   453Active.Sellers..\n:   51Ratings\n:   828Review.Count\n:   828Category\n:   0Length\n:   1516Width\n:   1516Height\n:   1516Creation.Date\n:   0\n\n",
            "text/latex": "\\begin{description*}\n\\item[Product.Details] 0\n\\item[Price] 1264\n\\item[Sales] 1802\n\\item[Revenue] 1511\n\\item[BSR] 453\n\\item[Active.Sellers..] 51\n\\item[Ratings] 828\n\\item[Review.Count] 828\n\\item[Category] 0\n\\item[Length] 1516\n\\item[Width] 1516\n\\item[Height] 1516\n\\item[Creation.Date] 0\n\\end{description*}\n",
            "text/plain": [
              " Product.Details            Price            Sales          Revenue \n",
              "               0             1264             1802             1511 \n",
              "             BSR Active.Sellers..          Ratings     Review.Count \n",
              "             453               51              828              828 \n",
              "        Category           Length            Width           Height \n",
              "               0             1516             1516             1516 \n",
              "   Creation.Date \n",
              "               0 "
            ]
          },
          "metadata": {}
        }
      ]
    },
    {
      "cell_type": "code",
      "source": [
        "# Nuevo dataframe que solo incluye las filas sin valores nulos en las columnas 'Price' y 'Sales'\n",
        "df_sin_nulos <- df_temp[complete.cases(df_temp$Price, df_temp$Sales), ]\n",
        "\n",
        "# Aún hay datos nulos pero pueden descartarse en otro momento específico\n",
        "sapply(df_sin_nulos, function(x) sum(is.na(x)))"
      ],
      "metadata": {
        "colab": {
          "base_uri": "https://localhost:8080/",
          "height": 52
        },
        "id": "anJ1yHq7Xi9W",
        "outputId": "00067ac7-de02-4886-f4fa-45187617a377"
      },
      "execution_count": null,
      "outputs": [
        {
          "output_type": "display_data",
          "data": {
            "text/html": [
              "<style>\n",
              ".dl-inline {width: auto; margin:0; padding: 0}\n",
              ".dl-inline>dt, .dl-inline>dd {float: none; width: auto; display: inline-block}\n",
              ".dl-inline>dt::after {content: \":\\0020\"; padding-right: .5ex}\n",
              ".dl-inline>dt:not(:first-of-type) {padding-left: .5ex}\n",
              "</style><dl class=dl-inline><dt>Product.Details</dt><dd>0</dd><dt>Price</dt><dd>0</dd><dt>Sales</dt><dd>0</dd><dt>Revenue</dt><dd>0</dd><dt>BSR</dt><dd>0</dd><dt>Active.Sellers..</dt><dd>36</dd><dt>Ratings</dt><dd>238</dd><dt>Review.Count</dt><dd>238</dd><dt>Category</dt><dd>0</dd><dt>Length</dt><dd>667</dd><dt>Width</dt><dd>667</dd><dt>Height</dt><dd>667</dd><dt>Creation.Date</dt><dd>0</dd></dl>\n"
            ],
            "text/markdown": "Product.Details\n:   0Price\n:   0Sales\n:   0Revenue\n:   0BSR\n:   0Active.Sellers..\n:   36Ratings\n:   238Review.Count\n:   238Category\n:   0Length\n:   667Width\n:   667Height\n:   667Creation.Date\n:   0\n\n",
            "text/latex": "\\begin{description*}\n\\item[Product.Details] 0\n\\item[Price] 0\n\\item[Sales] 0\n\\item[Revenue] 0\n\\item[BSR] 0\n\\item[Active.Sellers..] 36\n\\item[Ratings] 238\n\\item[Review.Count] 238\n\\item[Category] 0\n\\item[Length] 667\n\\item[Width] 667\n\\item[Height] 667\n\\item[Creation.Date] 0\n\\end{description*}\n",
            "text/plain": [
              " Product.Details            Price            Sales          Revenue \n",
              "               0                0                0                0 \n",
              "             BSR Active.Sellers..          Ratings     Review.Count \n",
              "               0               36              238              238 \n",
              "        Category           Length            Width           Height \n",
              "               0              667              667              667 \n",
              "   Creation.Date \n",
              "               0 "
            ]
          },
          "metadata": {}
        }
      ]
    },
    {
      "cell_type": "code",
      "source": [
        "# Casting de 'Creation.Date' y factor de 'Ratings'\n",
        "df_sin_nulos <- df_sin_nulos %>%\n",
        "  mutate(Creation.Date = as.Date(Creation.Date, format = '%d/%m/%Y'), Ratings = factor(Ratings, ordered = TRUE))\n",
        "summary(df_sin_nulos)"
      ],
      "metadata": {
        "colab": {
          "base_uri": "https://localhost:8080/",
          "height": 586
        },
        "id": "Ck4l3LamT765",
        "outputId": "ba25333b-bed1-42c3-fe5a-4efdf454c0c0"
      },
      "execution_count": null,
      "outputs": [
        {
          "output_type": "display_data",
          "data": {
            "text/plain": [
              " Product.Details        Price            Sales            Revenue        \n",
              " Length:4242        Min.   :  0.50   Min.   :    0.0   Min.   :     0.0  \n",
              " Class :character   1st Qu.:  7.98   1st Qu.:   14.0   1st Qu.:   198.2  \n",
              " Mode  :character   Median : 12.99   Median :  114.5   Median :  1303.0  \n",
              "                    Mean   : 15.09   Mean   : 1046.5   Mean   : 12900.9  \n",
              "                    3rd Qu.: 19.99   3rd Qu.:  619.0   3rd Qu.:  6876.0  \n",
              "                    Max.   :254.99   Max.   :23288.0   Max.   :601965.0  \n",
              "                                                                         \n",
              "      BSR          Active.Sellers..  Ratings      Review.Count    \n",
              " Min.   :      0   Min.   :  1.000   1   :  10   Min.   :    1.0  \n",
              " 1st Qu.:   2896   1st Qu.:  1.000   2   :   8   1st Qu.:   23.0  \n",
              " Median :  11652   Median :  2.000   3   :  67   Median :  168.5  \n",
              " Mean   :  38034   Mean   :  4.842   4   :1175   Mean   : 1157.0  \n",
              " 3rd Qu.:  58930   3rd Qu.:  5.000   5   :2744   3rd Qu.:  680.2  \n",
              " Max.   :1097476   Max.   :135.000   NA's: 238   Max.   :66998.0  \n",
              "                   NA's   :36                    NA's   :238      \n",
              "   Category             Length           Width          Height      \n",
              " Length:4242        Min.   : 0.000   Min.   : 0.0   Min.   : 0.000  \n",
              " Class :character   1st Qu.: 4.700   1st Qu.: 7.9   1st Qu.: 2.600  \n",
              " Mode  :character   Median : 6.500   Median :10.1   Median : 3.500  \n",
              "                    Mean   : 6.814   Mean   :10.3   Mean   : 4.141  \n",
              "                    3rd Qu.: 8.800   3rd Qu.:12.4   3rd Qu.: 5.600  \n",
              "                    Max.   :69.300   Max.   :98.4   Max.   :27.600  \n",
              "                    NA's   :667      NA's   :667    NA's   :667     \n",
              " Creation.Date       \n",
              " Min.   :2006-01-01  \n",
              " 1st Qu.:2015-12-09  \n",
              " Median :2018-12-10  \n",
              " Mean   :2017-10-31  \n",
              " 3rd Qu.:2020-08-12  \n",
              " Max.   :2021-12-11  \n",
              " NA's   :2398        "
            ]
          },
          "metadata": {}
        }
      ]
    },
    {
      "cell_type": "markdown",
      "source": [
        "## __Ingeniería de Variables__"
      ],
      "metadata": {
        "id": "pglFYnNz2qac"
      }
    },
    {
      "cell_type": "code",
      "source": [
        "# Valores únicos de 'Category'\n",
        "print(unique(df_sin_nulos$Category))"
      ],
      "metadata": {
        "colab": {
          "base_uri": "https://localhost:8080/"
        },
        "id": "j6i2kwNo8jGy",
        "outputId": "4365de35-98d2-4a0a-83c7-0a7a4549fd04"
      },
      "execution_count": null,
      "outputs": [
        {
          "output_type": "stream",
          "name": "stdout",
          "text": [
            " [1] \"Food Cupboard\"                    \"Grocery\"                         \n",
            " [3] \"Beer, Wine & Spirits\"             \"Fresh & Chilled\"                 \n",
            " [5] \"Drinks\"                           \"Home & Kitchen\"                  \n",
            " [7] \"Business, Industry & Science\"     \"Automotive\"                      \n",
            " [9] \"Hampers & Gourmet Gifts\"          \"Health & Personal Care\"          \n",
            "[11] \"Outdoor Recreation\"               \"Cooking & Dining\"                \n",
            "[13] \"Diet & Nutrition\"                 \"Home Accessories\"                \n",
            "[15] \"Vitamins, Minerals & Supplements\" \"Frozen\"                          \n",
            "[17] \"Bakery\"                           \"Garden & Outdoors\"               \n",
            "[19] \"Toys & Games\"                     \"Beauty\"                          \n"
          ]
        }
      ]
    },
    {
      "cell_type": "markdown",
      "source": [
        "Estas categorias podrías simplificarse tentativamente en la siguiente forma:\n",
        "\n",
        "> | Category | Subcategories |\n",
        "|---|---|\n",
        "| **Alimentos y despensa** |   ◉ Food Cupboard  ◉ Grocery  ◉ Fresh & Chilled   ◉ Cooking & Dining   ◉ Frozen   ◉ Bakery |\n",
        "| **Bebidas** |   ◉ Beer, Wine & Spirits   ◉ Drinks |\n",
        "| **Hogar y cocina** |   ◉ Home & Kitchen   ◉ Home Accessories   ◉ Garden & Outdoors |\n",
        "| **Cuidado personal y salud** |   ◉ Health & Personal Care   ◉ Beauty   ◉ Vitamins, Minerals & Supplements   ◉ Diet & Nutrition |\n",
        "| **Regalos y ocio** |   ◉ Hampers & Gourmet Gifts   ◉ Outdoor Recreation   ◉ Toys & Games |\n",
        "| **Industria y ciencia** |   ◉ Business, Industry & Science   ◉ Automotive |\n",
        "\n",
        "\n",
        "\n",
        "\n"
      ],
      "metadata": {
        "id": "EsqtV25LvEf_"
      }
    },
    {
      "cell_type": "code",
      "source": [
        "# Definir las categorías de agrupación\n",
        "categorias <- list(\n",
        "  Food_Grocery = c(\"Food Cupboard\", \"Grocery\", \"Fresh & Chilled\", \"Cooking & Dining\", \"Frozen\", \"Bakery\"),\n",
        "  Drinks = c(\"Beer, Wine & Spirits\", \"Drinks\"),\n",
        "  Home_Kitchen = c(\"Home & Kitchen\", \"Home Accessories\", \"Garden & Outdoors\"),\n",
        "  Health_Care = c(\"Health & Personal Care\", \"Beauty\", \"Vitamins, Minerals & Supplements\", \"Diet & Nutrition\"),\n",
        "  Gifts_Entertainment = c(\"Hampers & Gourmet Gifts\", \"Outdoor Recreation\", \"Toys & Games\"),\n",
        "  Industry_Science = c(\"Business, Industry & Science\", \"Automotive\")\n",
        ")\n",
        "\n",
        "# Función para asignar la categoría madre\n",
        "asignar_categoria <- function(cat) {\n",
        "  for (nombre_categoria in names(categorias)) {\n",
        "    if (cat %in% categorias[[nombre_categoria]]) {\n",
        "      return(nombre_categoria)\n",
        "    }\n",
        "  }\n",
        "}\n",
        "\n",
        "# Crear la nueva columna y hacerla factor, desechar 'Category' pues ya no es necesaria\n",
        "df_main <- df_sin_nulos %>%\n",
        "  mutate(High.Category = sapply(Category, asignar_categoria)) %>%\n",
        "  mutate(High.Category = factor(High.Category)) %>%\n",
        "  select(-Category) %>%\n",
        "  rename(Category = High.Category)\n",
        "\n",
        "summary(df_main)"
      ],
      "metadata": {
        "colab": {
          "base_uri": "https://localhost:8080/",
          "height": 586
        },
        "id": "JWhFXNl52amb",
        "outputId": "26bbcb15-0aca-4469-ffcb-fb2d6807673b"
      },
      "execution_count": null,
      "outputs": [
        {
          "output_type": "display_data",
          "data": {
            "text/plain": [
              " Product.Details        Price            Sales            Revenue        \n",
              " Length:4242        Min.   :  0.50   Min.   :    0.0   Min.   :     0.0  \n",
              " Class :character   1st Qu.:  7.98   1st Qu.:   14.0   1st Qu.:   198.2  \n",
              " Mode  :character   Median : 12.99   Median :  114.5   Median :  1303.0  \n",
              "                    Mean   : 15.09   Mean   : 1046.5   Mean   : 12900.9  \n",
              "                    3rd Qu.: 19.99   3rd Qu.:  619.0   3rd Qu.:  6876.0  \n",
              "                    Max.   :254.99   Max.   :23288.0   Max.   :601965.0  \n",
              "                                                                         \n",
              "      BSR          Active.Sellers..  Ratings      Review.Count    \n",
              " Min.   :      0   Min.   :  1.000   1   :  10   Min.   :    1.0  \n",
              " 1st Qu.:   2896   1st Qu.:  1.000   2   :   8   1st Qu.:   23.0  \n",
              " Median :  11652   Median :  2.000   3   :  67   Median :  168.5  \n",
              " Mean   :  38034   Mean   :  4.842   4   :1175   Mean   : 1157.0  \n",
              " 3rd Qu.:  58930   3rd Qu.:  5.000   5   :2744   3rd Qu.:  680.2  \n",
              " Max.   :1097476   Max.   :135.000   NA's: 238   Max.   :66998.0  \n",
              "                   NA's   :36                    NA's   :238      \n",
              "     Length           Width          Height       Creation.Date       \n",
              " Min.   : 0.000   Min.   : 0.0   Min.   : 0.000   Min.   :2006-01-01  \n",
              " 1st Qu.: 4.700   1st Qu.: 7.9   1st Qu.: 2.600   1st Qu.:2015-12-09  \n",
              " Median : 6.500   Median :10.1   Median : 3.500   Median :2018-12-10  \n",
              " Mean   : 6.814   Mean   :10.3   Mean   : 4.141   Mean   :2017-10-31  \n",
              " 3rd Qu.: 8.800   3rd Qu.:12.4   3rd Qu.: 5.600   3rd Qu.:2020-08-12  \n",
              " Max.   :69.300   Max.   :98.4   Max.   :27.600   Max.   :2021-12-11  \n",
              " NA's   :667      NA's   :667    NA's   :667      NA's   :2398        \n",
              "                Category   \n",
              " Drinks             :2111  \n",
              " Food_Grocery       :1895  \n",
              " Gifts_Entertainment: 172  \n",
              " Health_Care        :  37  \n",
              " Home_Kitchen       :  24  \n",
              " Industry_Science   :   3  \n",
              "                           "
            ]
          },
          "metadata": {}
        }
      ]
    },
    {
      "cell_type": "markdown",
      "source": [
        "## __Análisis de Empaquetado__"
      ],
      "metadata": {
        "id": "BxMf5klmodQP"
      }
    },
    {
      "cell_type": "markdown",
      "source": [
        "Se comienza ordenando cada fila de menor a mayor, no importa si se mezaclan las columnas pues las mediciones de Length, Width, Height son subjetivas dependiendo de la orientación a la hora de medir.\n",
        "\n",
        "Conviene clasificar los empaques por la forma que tienen. Basado en el razonamiento, los posibles tipos de caja propuesto fueron los siguientes:\n",
        "\n",
        "|Pizza|Cubo|Leche|Estaca|Tabla|Desconocido|\n",
        "|---|---|---|---|---|---|\n",
        "|2 dimensiones muy parecidas con <br> lo que se tiene una base aproxima-<br>damente  cuadrada y la 3er dimension <br> es más pequeña respecto a las otras|las 3 medidas son muy similares <br> entre si, generando una forma <br>cercana a la de un cubo| 3 dimensiones que están <br> aproximadamente equidistantes <br> entre sí|2 dimensiones muy parecidas con <br> lo que se tiene una base aproxima-<br>damente  cuadrada y la 3er dimension <br> es más grande respecto a las otras| 2 dimensiones diferentes, y <br> la tercera es más pequeña en <br> comparación con las otras dos| Cualquiera que no sea una <br> de las anteriores|\n",
        "\n",
        "Para ver las referencias visuales estas formas consultar el [repositorio](https://github.com/rafa-cc/Proyecto-Final-R/tree/main/Imagenes)"
      ],
      "metadata": {
        "id": "aqiZDB3SPCxZ"
      }
    },
    {
      "cell_type": "code",
      "source": [
        "# Nuevo dataframe que solo incluye las filas sin valores nulos en las columnas de dimensiones\n",
        "df_empaquetado <- df_main[complete.cases(df_main$Length), ]\n",
        "\n",
        "# En cada fila ordenar las columnas de dimensiones de menor a mayor\n",
        "df_temp <- df_empaquetado %>%\n",
        "        select(Length, Width, Height) %>%\n",
        "        apply(1, sort) %>%\n",
        "        t() %>%\n",
        "        as.data.frame() %>%\n",
        "        setNames(c(\"Length\", \"Width\", \"Height\"))\n",
        "\n",
        "# Reasignar los valores ordenados y se ordenan las filas de menos a mayor basado en 'Length'\n",
        "df_empaquetado <- df_empaquetado %>%\n",
        "        select(Length, Width, Height) %>%\n",
        "        mutate(Length = df_temp$Length, Width = df_temp$Width, Height = df_temp$Height) %>%\n",
        "        arrange(Length) %>%\n",
        "        slice(-1) # Eliminar el primer registro pues sus dimensiones son 0's\n",
        "# Reiniciar los indices después de los reordenamientos\n",
        "row.names(df_empaquetado) <- NULL\n",
        "\n",
        "# Guardar el dataframe para su análisis con Python\n",
        "write.csv(x=df_empaquetado, file=\"data.csv\", col.names = TRUE, row.names = FALSE)"
      ],
      "metadata": {
        "id": "CKB87wwhpa1E",
        "colab": {
          "base_uri": "https://localhost:8080/"
        },
        "outputId": "8001b4de-fded-4347-e15d-fab72615dca2"
      },
      "execution_count": null,
      "outputs": [
        {
          "output_type": "stream",
          "name": "stderr",
          "text": [
            "Warning message in write.csv(x = df_empaquetado, file = \"data.csv\", col.names = TRUE, :\n",
            "“attempt to set 'col.names' ignored”\n"
          ]
        }
      ]
    },
    {
      "cell_type": "markdown",
      "source": [
        "### __Análisis con Python__\n",
        "\n",
        "Se decidió hacer una clasificación alternativa en Python a manera de comparación. Para consultar dicho análisis ir al siguiente [archivo](https://colab.research.google.com/drive/1pnK2Lhk898ryd-9OdGD4vEEa8AAO1Pp5?usp=sharing)\n",
        "\n",
        "> Para la clasificación de los posibles tipos de caja se escogió un modelo de maquina de soporte vectorial en ambos análisis.\n",
        "\n"
      ],
      "metadata": {
        "id": "8vEqFFq7d1FZ"
      }
    },
    {
      "cell_type": "markdown",
      "source": [
        "### __Análisis con R__"
      ],
      "metadata": {
        "id": "OK4eaZB2c8KM"
      }
    },
    {
      "cell_type": "markdown",
      "source": [
        "Los datos se normalizan respecto a la mediana pues al final lo que caracteriza a cada forma es la distancia de los valores extremos respecto a ese punto medio, por ello fue importane ordenar por filas de menor a mayor cuando se manipuló con `R`"
      ],
      "metadata": {
        "id": "LCKLKPGQRGco"
      }
    },
    {
      "cell_type": "code",
      "source": [
        "normal <- function(triada) {\n",
        "  # Calcular la mediana de la triada\n",
        "  med <- median(triada)\n",
        "  # Normalizar cada número en la triada respecto a la mediana\n",
        "  triada_normalizada <- round(triada / med, 2)\n",
        "\n",
        "  return(triada_normalizada)\n",
        "}"
      ],
      "metadata": {
        "id": "JW1oYJ6HcX9C"
      },
      "execution_count": null,
      "outputs": []
    },
    {
      "cell_type": "code",
      "source": [
        "# Crear un nuevo dataframe con una columna que contenga las dimensiones normalizadas\n",
        "df_temp <- data.frame(t(apply(df_empaquetado, 1, normal))) %>%\n",
        "            mutate(normal = I(mapply(c, Length, Width, Height, SIMPLIFY = FALSE))) %>%\n",
        "            select(-Length, -Width, -Height)\n",
        "# Unir la columna al dataframe de análisis\n",
        "df_empaquetado <- cbind(df_empaquetado, df_temp)\n",
        "\n",
        "head(df_empaquetado, n=2)"
      ],
      "metadata": {
        "colab": {
          "base_uri": "https://localhost:8080/",
          "height": 161
        },
        "id": "5HuFR08hc_t1",
        "outputId": "da9994e2-dad0-4108-fa3c-b7a7f61731f9"
      },
      "execution_count": null,
      "outputs": [
        {
          "output_type": "display_data",
          "data": {
            "text/html": [
              "<table class=\"dataframe\">\n",
              "<caption>A data.frame: 2 × 4</caption>\n",
              "<thead>\n",
              "\t<tr><th></th><th scope=col>Length</th><th scope=col>Width</th><th scope=col>Height</th><th scope=col>normal</th></tr>\n",
              "\t<tr><th></th><th scope=col>&lt;dbl&gt;</th><th scope=col>&lt;dbl&gt;</th><th scope=col>&lt;dbl&gt;</th><th scope=col>&lt;I&lt;list&gt;&gt;</th></tr>\n",
              "</thead>\n",
              "<tbody>\n",
              "\t<tr><th scope=row>1</th><td>0.1</td><td>5.1</td><td>6.2</td><td>0.02, 1,....</td></tr>\n",
              "\t<tr><th scope=row>2</th><td>0.2</td><td>4.4</td><td>6.8</td><td>0.05, 1,....</td></tr>\n",
              "</tbody>\n",
              "</table>\n"
            ],
            "text/markdown": "\nA data.frame: 2 × 4\n\n| <!--/--> | Length &lt;dbl&gt; | Width &lt;dbl&gt; | Height &lt;dbl&gt; | normal &lt;I&lt;list&gt;&gt; |\n|---|---|---|---|---|\n| 1 | 0.1 | 5.1 | 6.2 | 0.02, 1,.... |\n| 2 | 0.2 | 4.4 | 6.8 | 0.05, 1,.... |\n\n",
            "text/latex": "A data.frame: 2 × 4\n\\begin{tabular}{r|llll}\n  & Length & Width & Height & normal\\\\\n  & <dbl> & <dbl> & <dbl> & <I<list>>\\\\\n\\hline\n\t1 & 0.1 & 5.1 & 6.2 & 0.02, 1,....\\\\\n\t2 & 0.2 & 4.4 & 6.8 & 0.05, 1,....\\\\\n\\end{tabular}\n",
            "text/plain": [
              "  Length Width Height normal      \n",
              "1 0.1    5.1   6.2    0.02, 1,....\n",
              "2 0.2    4.4   6.8    0.05, 1,...."
            ]
          },
          "metadata": {}
        }
      ]
    },
    {
      "cell_type": "markdown",
      "source": [
        "El modelo se entrena con los valores posibles que pueden tener las formas de los objetos. _Por ejemplo un cubo puede tener su mínimo entre $\\sf[0.66,1]$ y su máximo entre $\\sf[1,1.33]$_. Entonces se colocan algunas combinaciones para que el modelo considere ese rango de opciones."
      ],
      "metadata": {
        "id": "wnkW4c98RgWM"
      }
    },
    {
      "cell_type": "code",
      "source": [
        "# Ejemplo de datos etiquetados para entrenar el modelo\n",
        "data <- data.frame(\n",
        "  triada = I(list(\n",
        "  c(0.64, 1.0),\n",
        "  c(1.0, 1.0),\n",
        "  c(1.0, 1.33),\n",
        "  c(0.64, 1.33),\n",
        "  c(0.88, 1.0),\n",
        "  c(1.0, 1.0),\n",
        "  c(1.0, 1.15),\n",
        "  c(0.88, 1.15),\n",
        "  c(0.88, 1.33),\n",
        "  c(0.64, 1.11),\n",
        "  c(0.7, 1.2),\n",
        "\n",
        "  c(0.11, 1.0),\n",
        "  c(0.33, 1.0),\n",
        "  c(0.4, 1.0),\n",
        "  c(0.11, 1.33),\n",
        "  c(0.33, 1.33),\n",
        "  c(0.4, 1.33),\n",
        "  c(0.4, 1.11),\n",
        "  c(0.33, 1.11),\n",
        "  c(0.11, 1.11),\n",
        "  c(0.45, 1.0),\n",
        "  c(0.45, 1.11),\n",
        "\n",
        "  c(1.0, 2.0),\n",
        "  c(1.0, 1.66),\n",
        "  c(1.0, 1.4),\n",
        "  c(0.88, 2.0),\n",
        "  c(0.88, 1.66),\n",
        "  c(0.88, 1.4),\n",
        "  c(0.66, 2.0),\n",
        "  c(0.66, 1.66),\n",
        "  c(0.66, 1.4),\n",
        "\n",
        "  c(0.5, 2.11),\n",
        "  c(0.5, 2.66),\n",
        "  c(0.5, 2.4),\n",
        "  c(1.0, 2.11),\n",
        "  c(1.0, 2.66),\n",
        "  c(1.0, 2.4),\n",
        "  c(1.0, 2.88),\n",
        "  c(1.0, 3),\n",
        "  c(1.0, 4),\n",
        "  c(0.88, 2.0),\n",
        "  c(0.88, 2.66),\n",
        "  c(0.88, 2.4),\n",
        "  c(0.66, 2.0),\n",
        "  c(0.66, 2.66),\n",
        "  c(0.66, 2.4),\n",
        "\n",
        "  c(0.11, 1.4),\n",
        "  c(0.11, 1.6),\n",
        "  c(0.11, 1.8),\n",
        "  c(0.11, 2.0),\n",
        "  c(0.11, 2.4),\n",
        "  c(0.11, 2.6),\n",
        "  c(0.33, 1.4),\n",
        "  c(0.33, 1.6),\n",
        "  c(0.33, 1.8),\n",
        "  c(0.33, 2.0),\n",
        "  c(0.33, 2.4),\n",
        "  c(0.33, 2.6),\n",
        "  c(0.4, 1.4),\n",
        "  c(0.4, 1.6),\n",
        "  c(0.4, 1.8),\n",
        "  c(0.4, 2.0),\n",
        "  c(0.4, 2.4),\n",
        "\n",
        "  c(0.6, 1.2),\n",
        "  c(0.6, 1.33),\n",
        "  c(0.6, 1.4),\n",
        "  c(0.6, 1.6),\n",
        "  c(0.6, 2.0),\n",
        "  c(0.55, 1.0),\n",
        "  c(0.55, 1.2),\n",
        "  c(0.55, 1.33),\n",
        "  c(0.55, 1.4),\n",
        "  c(0.55, 1.4),\n",
        "  c(0.55, 1.6),\n",
        "  c(0.55, 2.0))),\n",
        "etiqueta = c('Cubo', 'Cubo', 'Cubo', 'Cubo','Cubo', 'Cubo','Cubo','Cubo','Cubo','Cubo','Cubo', #11\n",
        "'Pizza','Pizza','Pizza','Pizza','Pizza','Pizza','Pizza','Pizza','Pizza','Pizza','Pizza', #11\n",
        "'Leche','Leche','Leche','Leche','Leche','Leche','Leche','Leche','Leche', #9\n",
        "'Estaca','Estaca','Estaca','Estaca','Estaca','Estaca','Estaca',\n",
        "'Estaca','Estaca','Estaca','Estaca','Estaca','Estaca','Estaca','Estaca', #15\n",
        "'Tabla','Tabla','Tabla','Tabla','Tabla','Tabla','Tabla','Tabla',\n",
        "'Tabla','Tabla','Tabla','Tabla','Tabla','Tabla','Tabla','Tabla','Tabla', #17\n",
        "'Desco','Desco','Desco','Desco','Desco','Desco','Desco','Desco','Desco','Desco','Desco','Desco') # Asegúrate de completar esta lista con todas las etiquetas\n",
        ")"
      ],
      "metadata": {
        "id": "2LGfUoh_vmsx"
      },
      "execution_count": null,
      "outputs": []
    },
    {
      "cell_type": "code",
      "source": [
        "set.seed(127)\n",
        "# Separar triadas y etiquetas\n",
        "X <- do.call(rbind, data$triada)\n",
        "y <- data$etiqueta\n",
        "\n",
        "# Generar índices aleatorios para el conjunto de entrenamiento (se usó la misma semilla en Python)\n",
        "trainIndex <- sample(1:nrow(X), nrow(X) * 0.8)\n",
        "\n",
        "# Dividir el conjunto de datos\n",
        "X_train <- X[trainIndex, ]\n",
        "y_train <- y[trainIndex]\n",
        "X_test <- X[-trainIndex, ]\n",
        "y_test <- y[-trainIndex]\n",
        "\n",
        "# Validar que tanto 'train' y 'test' tienen los mismos niveles de etiquetas\n",
        "all_levels <- unique(c(y_train, y_test))\n",
        "y_train <- factor(y_train, levels = all_levels)\n",
        "y_test <- factor(y_test, levels = all_levels)\n",
        "\n",
        "# Crear y entrenar el modelo\n",
        "training_data <- data.frame(X_train, etiqueta = factor(y_train))\n",
        "model <- svm(etiqueta ~ ., data = training_data)\n",
        "\n",
        "# Evaluar el modelo\n",
        "y_pred <- predict(model, X_test)\n",
        "\n",
        "# Crear la matriz de confusión\n",
        "conf_matrix <- table(Actual = y_test, Predicted = y_pred)\n",
        "\n",
        "# Calcular la precisión\n",
        "accuracy <- sum(diag(conf_matrix)) / length(y_test)\n",
        "print(paste('Precisión del modelo:', accuracy))"
      ],
      "metadata": {
        "colab": {
          "base_uri": "https://localhost:8080/"
        },
        "id": "lGkh13whkjDN",
        "outputId": "520dbe28-ae5c-4039-cec9-69c45af32cc8"
      },
      "execution_count": null,
      "outputs": [
        {
          "output_type": "stream",
          "name": "stdout",
          "text": [
            "[1] \"Precisión del modelo: 0.866666666666667\"\n"
          ]
        }
      ]
    },
    {
      "cell_type": "code",
      "source": [
        "# Crear una función para aplicar el modelo a cada triada\n",
        "clasificar_triada <- function(triada) {\n",
        "  # Convertir la lista en un vector numérico\n",
        "  triada_vector <- unlist(triada)\n",
        "  # Eliminar el segundo elemento pues siempre será 1\n",
        "  triada_vector <- triada_vector[-2]\n",
        "  # Convertir el vector en un dataframe con nombres de columnas que coincidan con los de los datos de entrenamiento\n",
        "  triada_df <- data.frame(t(triada_vector))\n",
        "  names(triada_df) <- names(X_train)\n",
        "  etiqueta <- predict(model, triada_df)\n",
        "\n",
        "  return(etiqueta)\n",
        "}\n",
        "\n",
        "# Aplicar la función a la columna 'normal' y crear una nueva columna 'etiqueta'\n",
        "df_empaquetado$etiqueta <- sapply(df_empaquetado$normal, clasificar_triada)"
      ],
      "metadata": {
        "id": "dPTzQmp97Y59"
      },
      "execution_count": null,
      "outputs": []
    },
    {
      "cell_type": "code",
      "source": [
        "head(df_empaquetado)"
      ],
      "metadata": {
        "colab": {
          "base_uri": "https://localhost:8080/",
          "height": 286
        },
        "id": "OlUCOwmj8pRc",
        "outputId": "12e9dbbb-d6ae-4c6a-f77e-31197efd6709"
      },
      "execution_count": null,
      "outputs": [
        {
          "output_type": "display_data",
          "data": {
            "text/html": [
              "<table class=\"dataframe\">\n",
              "<caption>A data.frame: 6 × 5</caption>\n",
              "<thead>\n",
              "\t<tr><th></th><th scope=col>Length</th><th scope=col>Width</th><th scope=col>Height</th><th scope=col>normal</th><th scope=col>etiqueta</th></tr>\n",
              "\t<tr><th></th><th scope=col>&lt;dbl&gt;</th><th scope=col>&lt;dbl&gt;</th><th scope=col>&lt;dbl&gt;</th><th scope=col>&lt;I&lt;list&gt;&gt;</th><th scope=col>&lt;fct&gt;</th></tr>\n",
              "</thead>\n",
              "<tbody>\n",
              "\t<tr><th scope=row>1</th><td>0.1</td><td>5.1</td><td>6.2</td><td>0.02, 1,....</td><td>Pizza </td></tr>\n",
              "\t<tr><th scope=row>2</th><td>0.2</td><td>4.4</td><td>6.8</td><td>0.05, 1,....</td><td>Tabla </td></tr>\n",
              "\t<tr><th scope=row>3</th><td>0.3</td><td>0.3</td><td>0.7</td><td>  1, 1, 2.33</td><td>Estaca</td></tr>\n",
              "\t<tr><th scope=row>4</th><td>0.3</td><td>0.3</td><td>0.7</td><td>  1, 1, 2.33</td><td>Estaca</td></tr>\n",
              "\t<tr><th scope=row>5</th><td>0.3</td><td>2.9</td><td>4.3</td><td>0.1, 1, 1.48</td><td>Tabla </td></tr>\n",
              "\t<tr><th scope=row>6</th><td>0.3</td><td>2.9</td><td>4.3</td><td>0.1, 1, 1.48</td><td>Tabla </td></tr>\n",
              "</tbody>\n",
              "</table>\n"
            ],
            "text/markdown": "\nA data.frame: 6 × 5\n\n| <!--/--> | Length &lt;dbl&gt; | Width &lt;dbl&gt; | Height &lt;dbl&gt; | normal &lt;I&lt;list&gt;&gt; | etiqueta &lt;fct&gt; |\n|---|---|---|---|---|---|\n| 1 | 0.1 | 5.1 | 6.2 | 0.02, 1,.... | Pizza  |\n| 2 | 0.2 | 4.4 | 6.8 | 0.05, 1,.... | Tabla  |\n| 3 | 0.3 | 0.3 | 0.7 |   1, 1, 2.33 | Estaca |\n| 4 | 0.3 | 0.3 | 0.7 |   1, 1, 2.33 | Estaca |\n| 5 | 0.3 | 2.9 | 4.3 | 0.1, 1, 1.48 | Tabla  |\n| 6 | 0.3 | 2.9 | 4.3 | 0.1, 1, 1.48 | Tabla  |\n\n",
            "text/latex": "A data.frame: 6 × 5\n\\begin{tabular}{r|lllll}\n  & Length & Width & Height & normal & etiqueta\\\\\n  & <dbl> & <dbl> & <dbl> & <I<list>> & <fct>\\\\\n\\hline\n\t1 & 0.1 & 5.1 & 6.2 & 0.02, 1,.... & Pizza \\\\\n\t2 & 0.2 & 4.4 & 6.8 & 0.05, 1,.... & Tabla \\\\\n\t3 & 0.3 & 0.3 & 0.7 &   1, 1, 2.33 & Estaca\\\\\n\t4 & 0.3 & 0.3 & 0.7 &   1, 1, 2.33 & Estaca\\\\\n\t5 & 0.3 & 2.9 & 4.3 & 0.1, 1, 1.48 & Tabla \\\\\n\t6 & 0.3 & 2.9 & 4.3 & 0.1, 1, 1.48 & Tabla \\\\\n\\end{tabular}\n",
            "text/plain": [
              "  Length Width Height normal       etiqueta\n",
              "1 0.1    5.1   6.2    0.02, 1,.... Pizza   \n",
              "2 0.2    4.4   6.8    0.05, 1,.... Tabla   \n",
              "3 0.3    0.3   0.7      1, 1, 2.33 Estaca  \n",
              "4 0.3    0.3   0.7      1, 1, 2.33 Estaca  \n",
              "5 0.3    2.9   4.3    0.1, 1, 1.48 Tabla   \n",
              "6 0.3    2.9   4.3    0.1, 1, 1.48 Tabla   "
            ]
          },
          "metadata": {}
        }
      ]
    },
    {
      "cell_type": "code",
      "source": [
        "# Eliminar la columna 'normal' porque si no el csv no se genera. Crear la columna 'volumen'\n",
        "df_empaquetado <- df_empaquetado %>% select(-normal) %>% mutate(volumen = round(Length * Width * Height,2))\n",
        "# Guardar el dataframe para su análisis con Python\n",
        "write.csv(x=df_empaquetado, file=\"data_emp_class_R.csv\", col.names = TRUE, row.names = FALSE)"
      ],
      "metadata": {
        "colab": {
          "base_uri": "https://localhost:8080/"
        },
        "id": "x-d2ot2x77ER",
        "outputId": "7235c5fe-0943-49e5-af95-187b55b374ff"
      },
      "execution_count": null,
      "outputs": [
        {
          "output_type": "stream",
          "name": "stderr",
          "text": [
            "Warning message in write.csv(x = df_empaquetado, file = \"data_emp_class_R.csv\", :\n",
            "“attempt to set 'col.names' ignored”\n"
          ]
        }
      ]
    },
    {
      "cell_type": "markdown",
      "source": [
        "### __Regreso a R__"
      ],
      "metadata": {
        "id": "jf3Y287-Qq_S"
      }
    },
    {
      "cell_type": "markdown",
      "source": [
        "Una vez con los datos clasificados y tambien clusterizados por su distancia al origen es momento de proponer los tamaños ideales para los empaques en cada cluster."
      ],
      "metadata": {
        "id": "gcD4BsH-K-dA"
      }
    },
    {
      "cell_type": "code",
      "source": [
        "df_empaquetado_py <- read.csv(\"https://raw.githubusercontent.com/rafa-cc/Proyecto-Final-R/main/data_emp_class.csv\")\n",
        "f_empaquetado_py <- df_empaquetado_py %>%\n",
        "          mutate(etiqueta = as.factor(etiqueta)) %>% # Hacer factor 'etiqueta'\n",
        "          mutate(volumen = Length * Width * Height)\n",
        "desperdicio <- c(1)\n",
        "df_empaquetado <- cbind(df_empaquetado,desperdicio)"
      ],
      "metadata": {
        "id": "Kuy4pYEGCaH6"
      },
      "execution_count": null,
      "outputs": []
    },
    {
      "cell_type": "markdown",
      "source": [
        "Para asegurar que una caja pueda contener a todas lob objetos de su categoria entonces debe tener al menos las dimensiones del objeto a contener, así se escoge el máximo de cada dimensión registrada dentro de tal categoria."
      ],
      "metadata": {
        "id": "gqEGg8x-Nadm"
      }
    },
    {
      "cell_type": "code",
      "source": [
        "categorias <- levels(unique(df_empaquetado$etiqueta))\n",
        "\n",
        "# Crear dataframe que guarde las dimensiones ideales, se añaden datos prueba\n",
        "df_cajas <- data.frame(Length = 1.2, Width = 5.5, Height = 5.5, volumen_caja = 5.5, Forma = 'a', cluster = 1)\n",
        "df_final <- data.frame()\n",
        "# Se crean 6 Dataframes temporales, cada uno correspondiente a la forma 'Pizza', 'leche' , etc.\n",
        "for(i in 1:length(unique(df_empaquetado$etiqueta))) {\n",
        "  temp_df <- filter(df_empaquetado,etiqueta == categorias[i])\n",
        "  k <- 6\n",
        "  # Crear el modelo KMeans y ajustarlo a los datos\n",
        "  kmeans_result <- kmeans(temp_df[,c('Length', 'Width', 'Height')], k)\n",
        "\n",
        "  # Agregar las etiquetas de los clusters al DataFrame\n",
        "  temp_df$cluster <- kmeans_result$cluster\n",
        "\n",
        "\n",
        "  # Por cada dataframe de forma calcular las dimensiones máximas de cada cluster\n",
        "  for(j in 1:length(unique(temp_df$cluster))){\n",
        "    df_temp <- temp_df %>%\n",
        "      filter(cluster == j)\n",
        "    maximos <- apply(df_temp[, c(\"Length\", \"Width\", \"Height\")], 2, max)\n",
        "    vol_caja <- round(prod(maximos),2)\n",
        "    maximos <- c(maximos,vol_caja,categorias[i],j)\n",
        "    df_cajas <- rbind(df_cajas, maximos)\n",
        "  }\n",
        "  df_rest <- merge(temp_df,df_cajas, by.x = c(\"etiqueta\",\"cluster\"), by.y = c(\"Forma\",\"cluster\"))\n",
        "\n",
        "  df_final <- rbind(df_final,df_rest)\n",
        "}\n",
        "\n",
        "# Datos finales\n",
        "df_cajas <- df_cajas %>%\n",
        "  mutate(Length= as.numeric(Length), Width= as.numeric(Width), Height=as.numeric(Height), volumen_caja= as.numeric(volumen_caja), Forma = factor(Forma), cluster = as.numeric(cluster)) %>%\n",
        "  slice(-1) %>%\n",
        "  arrange(desc(Forma),desc(Length))\n",
        "\n",
        "df_final\n"
      ],
      "metadata": {
        "id": "Smp40xYmoeWV",
        "colab": {
          "base_uri": "https://localhost:8080/",
          "height": 1000
        },
        "outputId": "cb4edb53-6606-4813-b9d7-370fa6ccd180"
      },
      "execution_count": null,
      "outputs": [
        {
          "output_type": "display_data",
          "data": {
            "text/html": [
              "<table class=\"dataframe\">\n",
              "<caption>A data.frame: 3574 × 11</caption>\n",
              "<thead>\n",
              "\t<tr><th scope=col>etiqueta</th><th scope=col>cluster</th><th scope=col>Length.x</th><th scope=col>Width.x</th><th scope=col>Height.x</th><th scope=col>volumen</th><th scope=col>desperdicio</th><th scope=col>Length.y</th><th scope=col>Width.y</th><th scope=col>Height.y</th><th scope=col>volumen_caja</th></tr>\n",
              "\t<tr><th scope=col>&lt;fct&gt;</th><th scope=col>&lt;int&gt;</th><th scope=col>&lt;dbl&gt;</th><th scope=col>&lt;dbl&gt;</th><th scope=col>&lt;dbl&gt;</th><th scope=col>&lt;dbl&gt;</th><th scope=col>&lt;dbl&gt;</th><th scope=col>&lt;chr&gt;</th><th scope=col>&lt;chr&gt;</th><th scope=col>&lt;chr&gt;</th><th scope=col>&lt;chr&gt;</th></tr>\n",
              "</thead>\n",
              "<tbody>\n",
              "\t<tr><td>Desco</td><td>1</td><td>1.3</td><td>2.8</td><td>3.8</td><td>13.83</td><td>1</td><td>2.8</td><td>4.8</td><td>6.7</td><td>90.05</td></tr>\n",
              "\t<tr><td>Desco</td><td>1</td><td>1.4</td><td>2.4</td><td>3.5</td><td>11.76</td><td>1</td><td>2.8</td><td>4.8</td><td>6.7</td><td>90.05</td></tr>\n",
              "\t<tr><td>Desco</td><td>1</td><td>1.4</td><td>2.4</td><td>3.5</td><td>11.76</td><td>1</td><td>2.8</td><td>4.8</td><td>6.7</td><td>90.05</td></tr>\n",
              "\t<tr><td>Desco</td><td>1</td><td>1.5</td><td>2.6</td><td>3.2</td><td>12.48</td><td>1</td><td>2.8</td><td>4.8</td><td>6.7</td><td>90.05</td></tr>\n",
              "\t<tr><td>Desco</td><td>1</td><td>1.5</td><td>2.6</td><td>3.2</td><td>12.48</td><td>1</td><td>2.8</td><td>4.8</td><td>6.7</td><td>90.05</td></tr>\n",
              "\t<tr><td>Desco</td><td>1</td><td>1.5</td><td>2.6</td><td>3.2</td><td>12.48</td><td>1</td><td>2.8</td><td>4.8</td><td>6.7</td><td>90.05</td></tr>\n",
              "\t<tr><td>Desco</td><td>1</td><td>1.7</td><td>3.5</td><td>5.5</td><td>32.73</td><td>1</td><td>2.8</td><td>4.8</td><td>6.7</td><td>90.05</td></tr>\n",
              "\t<tr><td>Desco</td><td>1</td><td>1.7</td><td>3.5</td><td>5.5</td><td>32.73</td><td>1</td><td>2.8</td><td>4.8</td><td>6.7</td><td>90.05</td></tr>\n",
              "\t<tr><td>Desco</td><td>1</td><td>1.7</td><td>3.2</td><td>5.1</td><td>27.74</td><td>1</td><td>2.8</td><td>4.8</td><td>6.7</td><td>90.05</td></tr>\n",
              "\t<tr><td>Desco</td><td>1</td><td>1.7</td><td>3.2</td><td>5.9</td><td>32.10</td><td>1</td><td>2.8</td><td>4.8</td><td>6.7</td><td>90.05</td></tr>\n",
              "\t<tr><td>Desco</td><td>1</td><td>1.7</td><td>3.1</td><td>6.0</td><td>31.62</td><td>1</td><td>2.8</td><td>4.8</td><td>6.7</td><td>90.05</td></tr>\n",
              "\t<tr><td>Desco</td><td>1</td><td>1.8</td><td>3.1</td><td>5.2</td><td>29.02</td><td>1</td><td>2.8</td><td>4.8</td><td>6.7</td><td>90.05</td></tr>\n",
              "\t<tr><td>Desco</td><td>1</td><td>1.8</td><td>3.1</td><td>5.2</td><td>29.02</td><td>1</td><td>2.8</td><td>4.8</td><td>6.7</td><td>90.05</td></tr>\n",
              "\t<tr><td>Desco</td><td>1</td><td>1.8</td><td>3.1</td><td>5.2</td><td>29.02</td><td>1</td><td>2.8</td><td>4.8</td><td>6.7</td><td>90.05</td></tr>\n",
              "\t<tr><td>Desco</td><td>1</td><td>1.8</td><td>3.1</td><td>5.2</td><td>29.02</td><td>1</td><td>2.8</td><td>4.8</td><td>6.7</td><td>90.05</td></tr>\n",
              "\t<tr><td>Desco</td><td>1</td><td>1.9</td><td>3.1</td><td>5.6</td><td>32.98</td><td>1</td><td>2.8</td><td>4.8</td><td>6.7</td><td>90.05</td></tr>\n",
              "\t<tr><td>Desco</td><td>1</td><td>1.9</td><td>3.1</td><td>5.6</td><td>32.98</td><td>1</td><td>2.8</td><td>4.8</td><td>6.7</td><td>90.05</td></tr>\n",
              "\t<tr><td>Desco</td><td>1</td><td>1.9</td><td>3.2</td><td>3.4</td><td>20.67</td><td>1</td><td>2.8</td><td>4.8</td><td>6.7</td><td>90.05</td></tr>\n",
              "\t<tr><td>Desco</td><td>1</td><td>1.9</td><td>3.1</td><td>5.6</td><td>32.98</td><td>1</td><td>2.8</td><td>4.8</td><td>6.7</td><td>90.05</td></tr>\n",
              "\t<tr><td>Desco</td><td>1</td><td>1.9</td><td>3.2</td><td>5.6</td><td>34.05</td><td>1</td><td>2.8</td><td>4.8</td><td>6.7</td><td>90.05</td></tr>\n",
              "\t<tr><td>Desco</td><td>1</td><td>1.9</td><td>3.3</td><td>5.7</td><td>35.74</td><td>1</td><td>2.8</td><td>4.8</td><td>6.7</td><td>90.05</td></tr>\n",
              "\t<tr><td>Desco</td><td>1</td><td>1.9</td><td>3.1</td><td>5.6</td><td>32.98</td><td>1</td><td>2.8</td><td>4.8</td><td>6.7</td><td>90.05</td></tr>\n",
              "\t<tr><td>Desco</td><td>1</td><td>2.0</td><td>3.5</td><td>6.3</td><td>44.10</td><td>1</td><td>2.8</td><td>4.8</td><td>6.7</td><td>90.05</td></tr>\n",
              "\t<tr><td>Desco</td><td>1</td><td>2.3</td><td>4.1</td><td>4.3</td><td>40.55</td><td>1</td><td>2.8</td><td>4.8</td><td>6.7</td><td>90.05</td></tr>\n",
              "\t<tr><td>Desco</td><td>1</td><td>2.5</td><td>3.7</td><td>6.5</td><td>60.12</td><td>1</td><td>2.8</td><td>4.8</td><td>6.7</td><td>90.05</td></tr>\n",
              "\t<tr><td>Desco</td><td>1</td><td>2.0</td><td>3.7</td><td>6.7</td><td>49.58</td><td>1</td><td>2.8</td><td>4.8</td><td>6.7</td><td>90.05</td></tr>\n",
              "\t<tr><td>Desco</td><td>1</td><td>2.4</td><td>3.5</td><td>5.2</td><td>43.68</td><td>1</td><td>2.8</td><td>4.8</td><td>6.7</td><td>90.05</td></tr>\n",
              "\t<tr><td>Desco</td><td>1</td><td>2.1</td><td>4.1</td><td>6.2</td><td>53.38</td><td>1</td><td>2.8</td><td>4.8</td><td>6.7</td><td>90.05</td></tr>\n",
              "\t<tr><td>Desco</td><td>1</td><td>2.5</td><td>4.6</td><td>5.6</td><td>64.40</td><td>1</td><td>2.8</td><td>4.8</td><td>6.7</td><td>90.05</td></tr>\n",
              "\t<tr><td>Desco</td><td>1</td><td>2.3</td><td>3.5</td><td>5.0</td><td>40.25</td><td>1</td><td>2.8</td><td>4.8</td><td>6.7</td><td>90.05</td></tr>\n",
              "\t<tr><td>⋮</td><td>⋮</td><td>⋮</td><td>⋮</td><td>⋮</td><td>⋮</td><td>⋮</td><td>⋮</td><td>⋮</td><td>⋮</td><td>⋮</td></tr>\n",
              "\t<tr><td>Leche</td><td>6</td><td> 8.9</td><td>10.5</td><td>15.8</td><td> 1476.51</td><td>1</td><td>27.6</td><td>28</td><td>46.1</td><td>35626.08</td></tr>\n",
              "\t<tr><td>Leche</td><td>6</td><td> 8.9</td><td> 9.6</td><td>16.8</td><td> 1435.39</td><td>1</td><td>27.6</td><td>28</td><td>46.1</td><td>35626.08</td></tr>\n",
              "\t<tr><td>Leche</td><td>6</td><td> 8.9</td><td> 9.9</td><td>16.1</td><td> 1418.57</td><td>1</td><td>27.6</td><td>28</td><td>46.1</td><td>35626.08</td></tr>\n",
              "\t<tr><td>Leche</td><td>6</td><td> 8.9</td><td> 9.6</td><td>16.8</td><td> 1435.39</td><td>1</td><td>27.6</td><td>28</td><td>46.1</td><td>35626.08</td></tr>\n",
              "\t<tr><td>Leche</td><td>6</td><td> 8.9</td><td> 9.9</td><td>16.1</td><td> 1418.57</td><td>1</td><td>27.6</td><td>28</td><td>46.1</td><td>35626.08</td></tr>\n",
              "\t<tr><td>Leche</td><td>6</td><td> 8.9</td><td>10.5</td><td>15.9</td><td> 1485.86</td><td>1</td><td>27.6</td><td>28</td><td>46.1</td><td>35626.08</td></tr>\n",
              "\t<tr><td>Leche</td><td>6</td><td> 9.0</td><td>10.4</td><td>15.5</td><td> 1450.80</td><td>1</td><td>27.6</td><td>28</td><td>46.1</td><td>35626.08</td></tr>\n",
              "\t<tr><td>Leche</td><td>6</td><td> 9.0</td><td>10.4</td><td>15.0</td><td> 1404.00</td><td>1</td><td>27.6</td><td>28</td><td>46.1</td><td>35626.08</td></tr>\n",
              "\t<tr><td>Leche</td><td>6</td><td> 9.0</td><td>10.4</td><td>15.0</td><td> 1404.00</td><td>1</td><td>27.6</td><td>28</td><td>46.1</td><td>35626.08</td></tr>\n",
              "\t<tr><td>Leche</td><td>6</td><td> 8.7</td><td>10.0</td><td>15.9</td><td> 1383.30</td><td>1</td><td>27.6</td><td>28</td><td>46.1</td><td>35626.08</td></tr>\n",
              "\t<tr><td>Leche</td><td>6</td><td> 8.7</td><td> 9.8</td><td>15.8</td><td> 1347.11</td><td>1</td><td>27.6</td><td>28</td><td>46.1</td><td>35626.08</td></tr>\n",
              "\t<tr><td>Leche</td><td>6</td><td> 9.1</td><td>12.6</td><td>19.3</td><td> 2212.94</td><td>1</td><td>27.6</td><td>28</td><td>46.1</td><td>35626.08</td></tr>\n",
              "\t<tr><td>Leche</td><td>6</td><td> 8.7</td><td> 9.9</td><td>14.9</td><td> 1283.34</td><td>1</td><td>27.6</td><td>28</td><td>46.1</td><td>35626.08</td></tr>\n",
              "\t<tr><td>Leche</td><td>6</td><td> 9.3</td><td>10.8</td><td>15.9</td><td> 1597.00</td><td>1</td><td>27.6</td><td>28</td><td>46.1</td><td>35626.08</td></tr>\n",
              "\t<tr><td>Leche</td><td>6</td><td> 9.4</td><td> 9.4</td><td>15.0</td><td> 1325.40</td><td>1</td><td>27.6</td><td>28</td><td>46.1</td><td>35626.08</td></tr>\n",
              "\t<tr><td>Leche</td><td>6</td><td> 9.4</td><td>11.0</td><td>18.9</td><td> 1954.26</td><td>1</td><td>27.6</td><td>28</td><td>46.1</td><td>35626.08</td></tr>\n",
              "\t<tr><td>Leche</td><td>6</td><td> 9.4</td><td>11.0</td><td>18.9</td><td> 1954.26</td><td>1</td><td>27.6</td><td>28</td><td>46.1</td><td>35626.08</td></tr>\n",
              "\t<tr><td>Leche</td><td>6</td><td> 9.4</td><td>10.6</td><td>18.9</td><td> 1883.20</td><td>1</td><td>27.6</td><td>28</td><td>46.1</td><td>35626.08</td></tr>\n",
              "\t<tr><td>Leche</td><td>6</td><td> 9.4</td><td>10.7</td><td>15.2</td><td> 1528.82</td><td>1</td><td>27.6</td><td>28</td><td>46.1</td><td>35626.08</td></tr>\n",
              "\t<tr><td>Leche</td><td>6</td><td> 9.4</td><td> 9.6</td><td>15.1</td><td> 1362.62</td><td>1</td><td>27.6</td><td>28</td><td>46.1</td><td>35626.08</td></tr>\n",
              "\t<tr><td>Leche</td><td>6</td><td>10.0</td><td>10.0</td><td>13.8</td><td> 1380.00</td><td>1</td><td>27.6</td><td>28</td><td>46.1</td><td>35626.08</td></tr>\n",
              "\t<tr><td>Leche</td><td>6</td><td>10.0</td><td>10.0</td><td>13.8</td><td> 1380.00</td><td>1</td><td>27.6</td><td>28</td><td>46.1</td><td>35626.08</td></tr>\n",
              "\t<tr><td>Leche</td><td>6</td><td>10.0</td><td>10.0</td><td>13.8</td><td> 1380.00</td><td>1</td><td>27.6</td><td>28</td><td>46.1</td><td>35626.08</td></tr>\n",
              "\t<tr><td>Leche</td><td>6</td><td>10.7</td><td>11.1</td><td>15.2</td><td> 1805.30</td><td>1</td><td>27.6</td><td>28</td><td>46.1</td><td>35626.08</td></tr>\n",
              "\t<tr><td>Leche</td><td>6</td><td>11.0</td><td>11.2</td><td>16.1</td><td> 1983.52</td><td>1</td><td>27.6</td><td>28</td><td>46.1</td><td>35626.08</td></tr>\n",
              "\t<tr><td>Leche</td><td>6</td><td>11.5</td><td>13.8</td><td>22.3</td><td> 3539.01</td><td>1</td><td>27.6</td><td>28</td><td>46.1</td><td>35626.08</td></tr>\n",
              "\t<tr><td>Leche</td><td>6</td><td>12.5</td><td>12.5</td><td>17.5</td><td> 2734.38</td><td>1</td><td>27.6</td><td>28</td><td>46.1</td><td>35626.08</td></tr>\n",
              "\t<tr><td>Leche</td><td>6</td><td>12.5</td><td>13.0</td><td>18.5</td><td> 3006.25</td><td>1</td><td>27.6</td><td>28</td><td>46.1</td><td>35626.08</td></tr>\n",
              "\t<tr><td>Leche</td><td>6</td><td>13.0</td><td>13.5</td><td>21.8</td><td> 3825.90</td><td>1</td><td>27.6</td><td>28</td><td>46.1</td><td>35626.08</td></tr>\n",
              "\t<tr><td>Leche</td><td>6</td><td>27.6</td><td>28.0</td><td>46.1</td><td>35626.08</td><td>1</td><td>27.6</td><td>28</td><td>46.1</td><td>35626.08</td></tr>\n",
              "</tbody>\n",
              "</table>\n"
            ],
            "text/markdown": "\nA data.frame: 3574 × 11\n\n| etiqueta &lt;fct&gt; | cluster &lt;int&gt; | Length.x &lt;dbl&gt; | Width.x &lt;dbl&gt; | Height.x &lt;dbl&gt; | volumen &lt;dbl&gt; | desperdicio &lt;dbl&gt; | Length.y &lt;chr&gt; | Width.y &lt;chr&gt; | Height.y &lt;chr&gt; | volumen_caja &lt;chr&gt; |\n|---|---|---|---|---|---|---|---|---|---|---|\n| Desco | 1 | 1.3 | 2.8 | 3.8 | 13.83 | 1 | 2.8 | 4.8 | 6.7 | 90.05 |\n| Desco | 1 | 1.4 | 2.4 | 3.5 | 11.76 | 1 | 2.8 | 4.8 | 6.7 | 90.05 |\n| Desco | 1 | 1.4 | 2.4 | 3.5 | 11.76 | 1 | 2.8 | 4.8 | 6.7 | 90.05 |\n| Desco | 1 | 1.5 | 2.6 | 3.2 | 12.48 | 1 | 2.8 | 4.8 | 6.7 | 90.05 |\n| Desco | 1 | 1.5 | 2.6 | 3.2 | 12.48 | 1 | 2.8 | 4.8 | 6.7 | 90.05 |\n| Desco | 1 | 1.5 | 2.6 | 3.2 | 12.48 | 1 | 2.8 | 4.8 | 6.7 | 90.05 |\n| Desco | 1 | 1.7 | 3.5 | 5.5 | 32.73 | 1 | 2.8 | 4.8 | 6.7 | 90.05 |\n| Desco | 1 | 1.7 | 3.5 | 5.5 | 32.73 | 1 | 2.8 | 4.8 | 6.7 | 90.05 |\n| Desco | 1 | 1.7 | 3.2 | 5.1 | 27.74 | 1 | 2.8 | 4.8 | 6.7 | 90.05 |\n| Desco | 1 | 1.7 | 3.2 | 5.9 | 32.10 | 1 | 2.8 | 4.8 | 6.7 | 90.05 |\n| Desco | 1 | 1.7 | 3.1 | 6.0 | 31.62 | 1 | 2.8 | 4.8 | 6.7 | 90.05 |\n| Desco | 1 | 1.8 | 3.1 | 5.2 | 29.02 | 1 | 2.8 | 4.8 | 6.7 | 90.05 |\n| Desco | 1 | 1.8 | 3.1 | 5.2 | 29.02 | 1 | 2.8 | 4.8 | 6.7 | 90.05 |\n| Desco | 1 | 1.8 | 3.1 | 5.2 | 29.02 | 1 | 2.8 | 4.8 | 6.7 | 90.05 |\n| Desco | 1 | 1.8 | 3.1 | 5.2 | 29.02 | 1 | 2.8 | 4.8 | 6.7 | 90.05 |\n| Desco | 1 | 1.9 | 3.1 | 5.6 | 32.98 | 1 | 2.8 | 4.8 | 6.7 | 90.05 |\n| Desco | 1 | 1.9 | 3.1 | 5.6 | 32.98 | 1 | 2.8 | 4.8 | 6.7 | 90.05 |\n| Desco | 1 | 1.9 | 3.2 | 3.4 | 20.67 | 1 | 2.8 | 4.8 | 6.7 | 90.05 |\n| Desco | 1 | 1.9 | 3.1 | 5.6 | 32.98 | 1 | 2.8 | 4.8 | 6.7 | 90.05 |\n| Desco | 1 | 1.9 | 3.2 | 5.6 | 34.05 | 1 | 2.8 | 4.8 | 6.7 | 90.05 |\n| Desco | 1 | 1.9 | 3.3 | 5.7 | 35.74 | 1 | 2.8 | 4.8 | 6.7 | 90.05 |\n| Desco | 1 | 1.9 | 3.1 | 5.6 | 32.98 | 1 | 2.8 | 4.8 | 6.7 | 90.05 |\n| Desco | 1 | 2.0 | 3.5 | 6.3 | 44.10 | 1 | 2.8 | 4.8 | 6.7 | 90.05 |\n| Desco | 1 | 2.3 | 4.1 | 4.3 | 40.55 | 1 | 2.8 | 4.8 | 6.7 | 90.05 |\n| Desco | 1 | 2.5 | 3.7 | 6.5 | 60.12 | 1 | 2.8 | 4.8 | 6.7 | 90.05 |\n| Desco | 1 | 2.0 | 3.7 | 6.7 | 49.58 | 1 | 2.8 | 4.8 | 6.7 | 90.05 |\n| Desco | 1 | 2.4 | 3.5 | 5.2 | 43.68 | 1 | 2.8 | 4.8 | 6.7 | 90.05 |\n| Desco | 1 | 2.1 | 4.1 | 6.2 | 53.38 | 1 | 2.8 | 4.8 | 6.7 | 90.05 |\n| Desco | 1 | 2.5 | 4.6 | 5.6 | 64.40 | 1 | 2.8 | 4.8 | 6.7 | 90.05 |\n| Desco | 1 | 2.3 | 3.5 | 5.0 | 40.25 | 1 | 2.8 | 4.8 | 6.7 | 90.05 |\n| ⋮ | ⋮ | ⋮ | ⋮ | ⋮ | ⋮ | ⋮ | ⋮ | ⋮ | ⋮ | ⋮ |\n| Leche | 6 |  8.9 | 10.5 | 15.8 |  1476.51 | 1 | 27.6 | 28 | 46.1 | 35626.08 |\n| Leche | 6 |  8.9 |  9.6 | 16.8 |  1435.39 | 1 | 27.6 | 28 | 46.1 | 35626.08 |\n| Leche | 6 |  8.9 |  9.9 | 16.1 |  1418.57 | 1 | 27.6 | 28 | 46.1 | 35626.08 |\n| Leche | 6 |  8.9 |  9.6 | 16.8 |  1435.39 | 1 | 27.6 | 28 | 46.1 | 35626.08 |\n| Leche | 6 |  8.9 |  9.9 | 16.1 |  1418.57 | 1 | 27.6 | 28 | 46.1 | 35626.08 |\n| Leche | 6 |  8.9 | 10.5 | 15.9 |  1485.86 | 1 | 27.6 | 28 | 46.1 | 35626.08 |\n| Leche | 6 |  9.0 | 10.4 | 15.5 |  1450.80 | 1 | 27.6 | 28 | 46.1 | 35626.08 |\n| Leche | 6 |  9.0 | 10.4 | 15.0 |  1404.00 | 1 | 27.6 | 28 | 46.1 | 35626.08 |\n| Leche | 6 |  9.0 | 10.4 | 15.0 |  1404.00 | 1 | 27.6 | 28 | 46.1 | 35626.08 |\n| Leche | 6 |  8.7 | 10.0 | 15.9 |  1383.30 | 1 | 27.6 | 28 | 46.1 | 35626.08 |\n| Leche | 6 |  8.7 |  9.8 | 15.8 |  1347.11 | 1 | 27.6 | 28 | 46.1 | 35626.08 |\n| Leche | 6 |  9.1 | 12.6 | 19.3 |  2212.94 | 1 | 27.6 | 28 | 46.1 | 35626.08 |\n| Leche | 6 |  8.7 |  9.9 | 14.9 |  1283.34 | 1 | 27.6 | 28 | 46.1 | 35626.08 |\n| Leche | 6 |  9.3 | 10.8 | 15.9 |  1597.00 | 1 | 27.6 | 28 | 46.1 | 35626.08 |\n| Leche | 6 |  9.4 |  9.4 | 15.0 |  1325.40 | 1 | 27.6 | 28 | 46.1 | 35626.08 |\n| Leche | 6 |  9.4 | 11.0 | 18.9 |  1954.26 | 1 | 27.6 | 28 | 46.1 | 35626.08 |\n| Leche | 6 |  9.4 | 11.0 | 18.9 |  1954.26 | 1 | 27.6 | 28 | 46.1 | 35626.08 |\n| Leche | 6 |  9.4 | 10.6 | 18.9 |  1883.20 | 1 | 27.6 | 28 | 46.1 | 35626.08 |\n| Leche | 6 |  9.4 | 10.7 | 15.2 |  1528.82 | 1 | 27.6 | 28 | 46.1 | 35626.08 |\n| Leche | 6 |  9.4 |  9.6 | 15.1 |  1362.62 | 1 | 27.6 | 28 | 46.1 | 35626.08 |\n| Leche | 6 | 10.0 | 10.0 | 13.8 |  1380.00 | 1 | 27.6 | 28 | 46.1 | 35626.08 |\n| Leche | 6 | 10.0 | 10.0 | 13.8 |  1380.00 | 1 | 27.6 | 28 | 46.1 | 35626.08 |\n| Leche | 6 | 10.0 | 10.0 | 13.8 |  1380.00 | 1 | 27.6 | 28 | 46.1 | 35626.08 |\n| Leche | 6 | 10.7 | 11.1 | 15.2 |  1805.30 | 1 | 27.6 | 28 | 46.1 | 35626.08 |\n| Leche | 6 | 11.0 | 11.2 | 16.1 |  1983.52 | 1 | 27.6 | 28 | 46.1 | 35626.08 |\n| Leche | 6 | 11.5 | 13.8 | 22.3 |  3539.01 | 1 | 27.6 | 28 | 46.1 | 35626.08 |\n| Leche | 6 | 12.5 | 12.5 | 17.5 |  2734.38 | 1 | 27.6 | 28 | 46.1 | 35626.08 |\n| Leche | 6 | 12.5 | 13.0 | 18.5 |  3006.25 | 1 | 27.6 | 28 | 46.1 | 35626.08 |\n| Leche | 6 | 13.0 | 13.5 | 21.8 |  3825.90 | 1 | 27.6 | 28 | 46.1 | 35626.08 |\n| Leche | 6 | 27.6 | 28.0 | 46.1 | 35626.08 | 1 | 27.6 | 28 | 46.1 | 35626.08 |\n\n",
            "text/latex": "A data.frame: 3574 × 11\n\\begin{tabular}{lllllllllll}\n etiqueta & cluster & Length.x & Width.x & Height.x & volumen & desperdicio & Length.y & Width.y & Height.y & volumen\\_caja\\\\\n <fct> & <int> & <dbl> & <dbl> & <dbl> & <dbl> & <dbl> & <chr> & <chr> & <chr> & <chr>\\\\\n\\hline\n\t Desco & 1 & 1.3 & 2.8 & 3.8 & 13.83 & 1 & 2.8 & 4.8 & 6.7 & 90.05\\\\\n\t Desco & 1 & 1.4 & 2.4 & 3.5 & 11.76 & 1 & 2.8 & 4.8 & 6.7 & 90.05\\\\\n\t Desco & 1 & 1.4 & 2.4 & 3.5 & 11.76 & 1 & 2.8 & 4.8 & 6.7 & 90.05\\\\\n\t Desco & 1 & 1.5 & 2.6 & 3.2 & 12.48 & 1 & 2.8 & 4.8 & 6.7 & 90.05\\\\\n\t Desco & 1 & 1.5 & 2.6 & 3.2 & 12.48 & 1 & 2.8 & 4.8 & 6.7 & 90.05\\\\\n\t Desco & 1 & 1.5 & 2.6 & 3.2 & 12.48 & 1 & 2.8 & 4.8 & 6.7 & 90.05\\\\\n\t Desco & 1 & 1.7 & 3.5 & 5.5 & 32.73 & 1 & 2.8 & 4.8 & 6.7 & 90.05\\\\\n\t Desco & 1 & 1.7 & 3.5 & 5.5 & 32.73 & 1 & 2.8 & 4.8 & 6.7 & 90.05\\\\\n\t Desco & 1 & 1.7 & 3.2 & 5.1 & 27.74 & 1 & 2.8 & 4.8 & 6.7 & 90.05\\\\\n\t Desco & 1 & 1.7 & 3.2 & 5.9 & 32.10 & 1 & 2.8 & 4.8 & 6.7 & 90.05\\\\\n\t Desco & 1 & 1.7 & 3.1 & 6.0 & 31.62 & 1 & 2.8 & 4.8 & 6.7 & 90.05\\\\\n\t Desco & 1 & 1.8 & 3.1 & 5.2 & 29.02 & 1 & 2.8 & 4.8 & 6.7 & 90.05\\\\\n\t Desco & 1 & 1.8 & 3.1 & 5.2 & 29.02 & 1 & 2.8 & 4.8 & 6.7 & 90.05\\\\\n\t Desco & 1 & 1.8 & 3.1 & 5.2 & 29.02 & 1 & 2.8 & 4.8 & 6.7 & 90.05\\\\\n\t Desco & 1 & 1.8 & 3.1 & 5.2 & 29.02 & 1 & 2.8 & 4.8 & 6.7 & 90.05\\\\\n\t Desco & 1 & 1.9 & 3.1 & 5.6 & 32.98 & 1 & 2.8 & 4.8 & 6.7 & 90.05\\\\\n\t Desco & 1 & 1.9 & 3.1 & 5.6 & 32.98 & 1 & 2.8 & 4.8 & 6.7 & 90.05\\\\\n\t Desco & 1 & 1.9 & 3.2 & 3.4 & 20.67 & 1 & 2.8 & 4.8 & 6.7 & 90.05\\\\\n\t Desco & 1 & 1.9 & 3.1 & 5.6 & 32.98 & 1 & 2.8 & 4.8 & 6.7 & 90.05\\\\\n\t Desco & 1 & 1.9 & 3.2 & 5.6 & 34.05 & 1 & 2.8 & 4.8 & 6.7 & 90.05\\\\\n\t Desco & 1 & 1.9 & 3.3 & 5.7 & 35.74 & 1 & 2.8 & 4.8 & 6.7 & 90.05\\\\\n\t Desco & 1 & 1.9 & 3.1 & 5.6 & 32.98 & 1 & 2.8 & 4.8 & 6.7 & 90.05\\\\\n\t Desco & 1 & 2.0 & 3.5 & 6.3 & 44.10 & 1 & 2.8 & 4.8 & 6.7 & 90.05\\\\\n\t Desco & 1 & 2.3 & 4.1 & 4.3 & 40.55 & 1 & 2.8 & 4.8 & 6.7 & 90.05\\\\\n\t Desco & 1 & 2.5 & 3.7 & 6.5 & 60.12 & 1 & 2.8 & 4.8 & 6.7 & 90.05\\\\\n\t Desco & 1 & 2.0 & 3.7 & 6.7 & 49.58 & 1 & 2.8 & 4.8 & 6.7 & 90.05\\\\\n\t Desco & 1 & 2.4 & 3.5 & 5.2 & 43.68 & 1 & 2.8 & 4.8 & 6.7 & 90.05\\\\\n\t Desco & 1 & 2.1 & 4.1 & 6.2 & 53.38 & 1 & 2.8 & 4.8 & 6.7 & 90.05\\\\\n\t Desco & 1 & 2.5 & 4.6 & 5.6 & 64.40 & 1 & 2.8 & 4.8 & 6.7 & 90.05\\\\\n\t Desco & 1 & 2.3 & 3.5 & 5.0 & 40.25 & 1 & 2.8 & 4.8 & 6.7 & 90.05\\\\\n\t ⋮ & ⋮ & ⋮ & ⋮ & ⋮ & ⋮ & ⋮ & ⋮ & ⋮ & ⋮ & ⋮\\\\\n\t Leche & 6 &  8.9 & 10.5 & 15.8 &  1476.51 & 1 & 27.6 & 28 & 46.1 & 35626.08\\\\\n\t Leche & 6 &  8.9 &  9.6 & 16.8 &  1435.39 & 1 & 27.6 & 28 & 46.1 & 35626.08\\\\\n\t Leche & 6 &  8.9 &  9.9 & 16.1 &  1418.57 & 1 & 27.6 & 28 & 46.1 & 35626.08\\\\\n\t Leche & 6 &  8.9 &  9.6 & 16.8 &  1435.39 & 1 & 27.6 & 28 & 46.1 & 35626.08\\\\\n\t Leche & 6 &  8.9 &  9.9 & 16.1 &  1418.57 & 1 & 27.6 & 28 & 46.1 & 35626.08\\\\\n\t Leche & 6 &  8.9 & 10.5 & 15.9 &  1485.86 & 1 & 27.6 & 28 & 46.1 & 35626.08\\\\\n\t Leche & 6 &  9.0 & 10.4 & 15.5 &  1450.80 & 1 & 27.6 & 28 & 46.1 & 35626.08\\\\\n\t Leche & 6 &  9.0 & 10.4 & 15.0 &  1404.00 & 1 & 27.6 & 28 & 46.1 & 35626.08\\\\\n\t Leche & 6 &  9.0 & 10.4 & 15.0 &  1404.00 & 1 & 27.6 & 28 & 46.1 & 35626.08\\\\\n\t Leche & 6 &  8.7 & 10.0 & 15.9 &  1383.30 & 1 & 27.6 & 28 & 46.1 & 35626.08\\\\\n\t Leche & 6 &  8.7 &  9.8 & 15.8 &  1347.11 & 1 & 27.6 & 28 & 46.1 & 35626.08\\\\\n\t Leche & 6 &  9.1 & 12.6 & 19.3 &  2212.94 & 1 & 27.6 & 28 & 46.1 & 35626.08\\\\\n\t Leche & 6 &  8.7 &  9.9 & 14.9 &  1283.34 & 1 & 27.6 & 28 & 46.1 & 35626.08\\\\\n\t Leche & 6 &  9.3 & 10.8 & 15.9 &  1597.00 & 1 & 27.6 & 28 & 46.1 & 35626.08\\\\\n\t Leche & 6 &  9.4 &  9.4 & 15.0 &  1325.40 & 1 & 27.6 & 28 & 46.1 & 35626.08\\\\\n\t Leche & 6 &  9.4 & 11.0 & 18.9 &  1954.26 & 1 & 27.6 & 28 & 46.1 & 35626.08\\\\\n\t Leche & 6 &  9.4 & 11.0 & 18.9 &  1954.26 & 1 & 27.6 & 28 & 46.1 & 35626.08\\\\\n\t Leche & 6 &  9.4 & 10.6 & 18.9 &  1883.20 & 1 & 27.6 & 28 & 46.1 & 35626.08\\\\\n\t Leche & 6 &  9.4 & 10.7 & 15.2 &  1528.82 & 1 & 27.6 & 28 & 46.1 & 35626.08\\\\\n\t Leche & 6 &  9.4 &  9.6 & 15.1 &  1362.62 & 1 & 27.6 & 28 & 46.1 & 35626.08\\\\\n\t Leche & 6 & 10.0 & 10.0 & 13.8 &  1380.00 & 1 & 27.6 & 28 & 46.1 & 35626.08\\\\\n\t Leche & 6 & 10.0 & 10.0 & 13.8 &  1380.00 & 1 & 27.6 & 28 & 46.1 & 35626.08\\\\\n\t Leche & 6 & 10.0 & 10.0 & 13.8 &  1380.00 & 1 & 27.6 & 28 & 46.1 & 35626.08\\\\\n\t Leche & 6 & 10.7 & 11.1 & 15.2 &  1805.30 & 1 & 27.6 & 28 & 46.1 & 35626.08\\\\\n\t Leche & 6 & 11.0 & 11.2 & 16.1 &  1983.52 & 1 & 27.6 & 28 & 46.1 & 35626.08\\\\\n\t Leche & 6 & 11.5 & 13.8 & 22.3 &  3539.01 & 1 & 27.6 & 28 & 46.1 & 35626.08\\\\\n\t Leche & 6 & 12.5 & 12.5 & 17.5 &  2734.38 & 1 & 27.6 & 28 & 46.1 & 35626.08\\\\\n\t Leche & 6 & 12.5 & 13.0 & 18.5 &  3006.25 & 1 & 27.6 & 28 & 46.1 & 35626.08\\\\\n\t Leche & 6 & 13.0 & 13.5 & 21.8 &  3825.90 & 1 & 27.6 & 28 & 46.1 & 35626.08\\\\\n\t Leche & 6 & 27.6 & 28.0 & 46.1 & 35626.08 & 1 & 27.6 & 28 & 46.1 & 35626.08\\\\\n\\end{tabular}\n",
            "text/plain": [
              "     etiqueta cluster Length.x Width.x Height.x volumen  desperdicio Length.y\n",
              "1    Desco    1       1.3      2.8     3.8      13.83    1           2.8     \n",
              "2    Desco    1       1.4      2.4     3.5      11.76    1           2.8     \n",
              "3    Desco    1       1.4      2.4     3.5      11.76    1           2.8     \n",
              "4    Desco    1       1.5      2.6     3.2      12.48    1           2.8     \n",
              "5    Desco    1       1.5      2.6     3.2      12.48    1           2.8     \n",
              "6    Desco    1       1.5      2.6     3.2      12.48    1           2.8     \n",
              "7    Desco    1       1.7      3.5     5.5      32.73    1           2.8     \n",
              "8    Desco    1       1.7      3.5     5.5      32.73    1           2.8     \n",
              "9    Desco    1       1.7      3.2     5.1      27.74    1           2.8     \n",
              "10   Desco    1       1.7      3.2     5.9      32.10    1           2.8     \n",
              "11   Desco    1       1.7      3.1     6.0      31.62    1           2.8     \n",
              "12   Desco    1       1.8      3.1     5.2      29.02    1           2.8     \n",
              "13   Desco    1       1.8      3.1     5.2      29.02    1           2.8     \n",
              "14   Desco    1       1.8      3.1     5.2      29.02    1           2.8     \n",
              "15   Desco    1       1.8      3.1     5.2      29.02    1           2.8     \n",
              "16   Desco    1       1.9      3.1     5.6      32.98    1           2.8     \n",
              "17   Desco    1       1.9      3.1     5.6      32.98    1           2.8     \n",
              "18   Desco    1       1.9      3.2     3.4      20.67    1           2.8     \n",
              "19   Desco    1       1.9      3.1     5.6      32.98    1           2.8     \n",
              "20   Desco    1       1.9      3.2     5.6      34.05    1           2.8     \n",
              "21   Desco    1       1.9      3.3     5.7      35.74    1           2.8     \n",
              "22   Desco    1       1.9      3.1     5.6      32.98    1           2.8     \n",
              "23   Desco    1       2.0      3.5     6.3      44.10    1           2.8     \n",
              "24   Desco    1       2.3      4.1     4.3      40.55    1           2.8     \n",
              "25   Desco    1       2.5      3.7     6.5      60.12    1           2.8     \n",
              "26   Desco    1       2.0      3.7     6.7      49.58    1           2.8     \n",
              "27   Desco    1       2.4      3.5     5.2      43.68    1           2.8     \n",
              "28   Desco    1       2.1      4.1     6.2      53.38    1           2.8     \n",
              "29   Desco    1       2.5      4.6     5.6      64.40    1           2.8     \n",
              "30   Desco    1       2.3      3.5     5.0      40.25    1           2.8     \n",
              "⋮    ⋮        ⋮       ⋮        ⋮       ⋮        ⋮        ⋮           ⋮       \n",
              "3545 Leche    6        8.9     10.5    15.8      1476.51 1           27.6    \n",
              "3546 Leche    6        8.9      9.6    16.8      1435.39 1           27.6    \n",
              "3547 Leche    6        8.9      9.9    16.1      1418.57 1           27.6    \n",
              "3548 Leche    6        8.9      9.6    16.8      1435.39 1           27.6    \n",
              "3549 Leche    6        8.9      9.9    16.1      1418.57 1           27.6    \n",
              "3550 Leche    6        8.9     10.5    15.9      1485.86 1           27.6    \n",
              "3551 Leche    6        9.0     10.4    15.5      1450.80 1           27.6    \n",
              "3552 Leche    6        9.0     10.4    15.0      1404.00 1           27.6    \n",
              "3553 Leche    6        9.0     10.4    15.0      1404.00 1           27.6    \n",
              "3554 Leche    6        8.7     10.0    15.9      1383.30 1           27.6    \n",
              "3555 Leche    6        8.7      9.8    15.8      1347.11 1           27.6    \n",
              "3556 Leche    6        9.1     12.6    19.3      2212.94 1           27.6    \n",
              "3557 Leche    6        8.7      9.9    14.9      1283.34 1           27.6    \n",
              "3558 Leche    6        9.3     10.8    15.9      1597.00 1           27.6    \n",
              "3559 Leche    6        9.4      9.4    15.0      1325.40 1           27.6    \n",
              "3560 Leche    6        9.4     11.0    18.9      1954.26 1           27.6    \n",
              "3561 Leche    6        9.4     11.0    18.9      1954.26 1           27.6    \n",
              "3562 Leche    6        9.4     10.6    18.9      1883.20 1           27.6    \n",
              "3563 Leche    6        9.4     10.7    15.2      1528.82 1           27.6    \n",
              "3564 Leche    6        9.4      9.6    15.1      1362.62 1           27.6    \n",
              "3565 Leche    6       10.0     10.0    13.8      1380.00 1           27.6    \n",
              "3566 Leche    6       10.0     10.0    13.8      1380.00 1           27.6    \n",
              "3567 Leche    6       10.0     10.0    13.8      1380.00 1           27.6    \n",
              "3568 Leche    6       10.7     11.1    15.2      1805.30 1           27.6    \n",
              "3569 Leche    6       11.0     11.2    16.1      1983.52 1           27.6    \n",
              "3570 Leche    6       11.5     13.8    22.3      3539.01 1           27.6    \n",
              "3571 Leche    6       12.5     12.5    17.5      2734.38 1           27.6    \n",
              "3572 Leche    6       12.5     13.0    18.5      3006.25 1           27.6    \n",
              "3573 Leche    6       13.0     13.5    21.8      3825.90 1           27.6    \n",
              "3574 Leche    6       27.6     28.0    46.1     35626.08 1           27.6    \n",
              "     Width.y Height.y volumen_caja\n",
              "1    4.8     6.7      90.05       \n",
              "2    4.8     6.7      90.05       \n",
              "3    4.8     6.7      90.05       \n",
              "4    4.8     6.7      90.05       \n",
              "5    4.8     6.7      90.05       \n",
              "6    4.8     6.7      90.05       \n",
              "7    4.8     6.7      90.05       \n",
              "8    4.8     6.7      90.05       \n",
              "9    4.8     6.7      90.05       \n",
              "10   4.8     6.7      90.05       \n",
              "11   4.8     6.7      90.05       \n",
              "12   4.8     6.7      90.05       \n",
              "13   4.8     6.7      90.05       \n",
              "14   4.8     6.7      90.05       \n",
              "15   4.8     6.7      90.05       \n",
              "16   4.8     6.7      90.05       \n",
              "17   4.8     6.7      90.05       \n",
              "18   4.8     6.7      90.05       \n",
              "19   4.8     6.7      90.05       \n",
              "20   4.8     6.7      90.05       \n",
              "21   4.8     6.7      90.05       \n",
              "22   4.8     6.7      90.05       \n",
              "23   4.8     6.7      90.05       \n",
              "24   4.8     6.7      90.05       \n",
              "25   4.8     6.7      90.05       \n",
              "26   4.8     6.7      90.05       \n",
              "27   4.8     6.7      90.05       \n",
              "28   4.8     6.7      90.05       \n",
              "29   4.8     6.7      90.05       \n",
              "30   4.8     6.7      90.05       \n",
              "⋮    ⋮       ⋮        ⋮           \n",
              "3545 28      46.1     35626.08    \n",
              "3546 28      46.1     35626.08    \n",
              "3547 28      46.1     35626.08    \n",
              "3548 28      46.1     35626.08    \n",
              "3549 28      46.1     35626.08    \n",
              "3550 28      46.1     35626.08    \n",
              "3551 28      46.1     35626.08    \n",
              "3552 28      46.1     35626.08    \n",
              "3553 28      46.1     35626.08    \n",
              "3554 28      46.1     35626.08    \n",
              "3555 28      46.1     35626.08    \n",
              "3556 28      46.1     35626.08    \n",
              "3557 28      46.1     35626.08    \n",
              "3558 28      46.1     35626.08    \n",
              "3559 28      46.1     35626.08    \n",
              "3560 28      46.1     35626.08    \n",
              "3561 28      46.1     35626.08    \n",
              "3562 28      46.1     35626.08    \n",
              "3563 28      46.1     35626.08    \n",
              "3564 28      46.1     35626.08    \n",
              "3565 28      46.1     35626.08    \n",
              "3566 28      46.1     35626.08    \n",
              "3567 28      46.1     35626.08    \n",
              "3568 28      46.1     35626.08    \n",
              "3569 28      46.1     35626.08    \n",
              "3570 28      46.1     35626.08    \n",
              "3571 28      46.1     35626.08    \n",
              "3572 28      46.1     35626.08    \n",
              "3573 28      46.1     35626.08    \n",
              "3574 28      46.1     35626.08    "
            ]
          },
          "metadata": {}
        }
      ]
    },
    {
      "cell_type": "code",
      "source": [
        "df_final <- mutate(df_final, volumen_caja = as.numeric(volumen_caja))\n",
        "df_final$desperdicio <- 100 / df_final$volumen_caja * df_final$volumen"
      ],
      "metadata": {
        "id": "oXgHn052zHbX"
      },
      "execution_count": null,
      "outputs": []
    },
    {
      "cell_type": "code",
      "source": [
        "head(df_final)"
      ],
      "metadata": {
        "colab": {
          "base_uri": "https://localhost:8080/",
          "height": 286
        },
        "id": "BRvroqpoyA2q",
        "outputId": "3f20827a-fcd0-4c5b-9d3e-dc14c0c55ba9"
      },
      "execution_count": null,
      "outputs": [
        {
          "output_type": "display_data",
          "data": {
            "text/html": [
              "<table class=\"dataframe\">\n",
              "<caption>A data.frame: 6 × 11</caption>\n",
              "<thead>\n",
              "\t<tr><th></th><th scope=col>etiqueta</th><th scope=col>cluster</th><th scope=col>Length.x</th><th scope=col>Width.x</th><th scope=col>Height.x</th><th scope=col>volumen</th><th scope=col>desperdicio</th><th scope=col>Length.y</th><th scope=col>Width.y</th><th scope=col>Height.y</th><th scope=col>volumen_caja</th></tr>\n",
              "\t<tr><th></th><th scope=col>&lt;fct&gt;</th><th scope=col>&lt;int&gt;</th><th scope=col>&lt;dbl&gt;</th><th scope=col>&lt;dbl&gt;</th><th scope=col>&lt;dbl&gt;</th><th scope=col>&lt;dbl&gt;</th><th scope=col>&lt;dbl&gt;</th><th scope=col>&lt;chr&gt;</th><th scope=col>&lt;chr&gt;</th><th scope=col>&lt;chr&gt;</th><th scope=col>&lt;dbl&gt;</th></tr>\n",
              "</thead>\n",
              "<tbody>\n",
              "\t<tr><th scope=row>1</th><td>Desco</td><td>1</td><td>1.3</td><td>2.8</td><td>3.8</td><td>13.83</td><td>15.35813</td><td>2.8</td><td>4.8</td><td>6.7</td><td>90.05</td></tr>\n",
              "\t<tr><th scope=row>2</th><td>Desco</td><td>1</td><td>1.4</td><td>2.4</td><td>3.5</td><td>11.76</td><td>13.05941</td><td>2.8</td><td>4.8</td><td>6.7</td><td>90.05</td></tr>\n",
              "\t<tr><th scope=row>3</th><td>Desco</td><td>1</td><td>1.4</td><td>2.4</td><td>3.5</td><td>11.76</td><td>13.05941</td><td>2.8</td><td>4.8</td><td>6.7</td><td>90.05</td></tr>\n",
              "\t<tr><th scope=row>4</th><td>Desco</td><td>1</td><td>1.5</td><td>2.6</td><td>3.2</td><td>12.48</td><td>13.85897</td><td>2.8</td><td>4.8</td><td>6.7</td><td>90.05</td></tr>\n",
              "\t<tr><th scope=row>5</th><td>Desco</td><td>1</td><td>1.5</td><td>2.6</td><td>3.2</td><td>12.48</td><td>13.85897</td><td>2.8</td><td>4.8</td><td>6.7</td><td>90.05</td></tr>\n",
              "\t<tr><th scope=row>6</th><td>Desco</td><td>1</td><td>1.5</td><td>2.6</td><td>3.2</td><td>12.48</td><td>13.85897</td><td>2.8</td><td>4.8</td><td>6.7</td><td>90.05</td></tr>\n",
              "</tbody>\n",
              "</table>\n"
            ],
            "text/markdown": "\nA data.frame: 6 × 11\n\n| <!--/--> | etiqueta &lt;fct&gt; | cluster &lt;int&gt; | Length.x &lt;dbl&gt; | Width.x &lt;dbl&gt; | Height.x &lt;dbl&gt; | volumen &lt;dbl&gt; | desperdicio &lt;dbl&gt; | Length.y &lt;chr&gt; | Width.y &lt;chr&gt; | Height.y &lt;chr&gt; | volumen_caja &lt;dbl&gt; |\n|---|---|---|---|---|---|---|---|---|---|---|---|\n| 1 | Desco | 1 | 1.3 | 2.8 | 3.8 | 13.83 | 15.35813 | 2.8 | 4.8 | 6.7 | 90.05 |\n| 2 | Desco | 1 | 1.4 | 2.4 | 3.5 | 11.76 | 13.05941 | 2.8 | 4.8 | 6.7 | 90.05 |\n| 3 | Desco | 1 | 1.4 | 2.4 | 3.5 | 11.76 | 13.05941 | 2.8 | 4.8 | 6.7 | 90.05 |\n| 4 | Desco | 1 | 1.5 | 2.6 | 3.2 | 12.48 | 13.85897 | 2.8 | 4.8 | 6.7 | 90.05 |\n| 5 | Desco | 1 | 1.5 | 2.6 | 3.2 | 12.48 | 13.85897 | 2.8 | 4.8 | 6.7 | 90.05 |\n| 6 | Desco | 1 | 1.5 | 2.6 | 3.2 | 12.48 | 13.85897 | 2.8 | 4.8 | 6.7 | 90.05 |\n\n",
            "text/latex": "A data.frame: 6 × 11\n\\begin{tabular}{r|lllllllllll}\n  & etiqueta & cluster & Length.x & Width.x & Height.x & volumen & desperdicio & Length.y & Width.y & Height.y & volumen\\_caja\\\\\n  & <fct> & <int> & <dbl> & <dbl> & <dbl> & <dbl> & <dbl> & <chr> & <chr> & <chr> & <dbl>\\\\\n\\hline\n\t1 & Desco & 1 & 1.3 & 2.8 & 3.8 & 13.83 & 15.35813 & 2.8 & 4.8 & 6.7 & 90.05\\\\\n\t2 & Desco & 1 & 1.4 & 2.4 & 3.5 & 11.76 & 13.05941 & 2.8 & 4.8 & 6.7 & 90.05\\\\\n\t3 & Desco & 1 & 1.4 & 2.4 & 3.5 & 11.76 & 13.05941 & 2.8 & 4.8 & 6.7 & 90.05\\\\\n\t4 & Desco & 1 & 1.5 & 2.6 & 3.2 & 12.48 & 13.85897 & 2.8 & 4.8 & 6.7 & 90.05\\\\\n\t5 & Desco & 1 & 1.5 & 2.6 & 3.2 & 12.48 & 13.85897 & 2.8 & 4.8 & 6.7 & 90.05\\\\\n\t6 & Desco & 1 & 1.5 & 2.6 & 3.2 & 12.48 & 13.85897 & 2.8 & 4.8 & 6.7 & 90.05\\\\\n\\end{tabular}\n",
            "text/plain": [
              "  etiqueta cluster Length.x Width.x Height.x volumen desperdicio Length.y\n",
              "1 Desco    1       1.3      2.8     3.8      13.83   15.35813    2.8     \n",
              "2 Desco    1       1.4      2.4     3.5      11.76   13.05941    2.8     \n",
              "3 Desco    1       1.4      2.4     3.5      11.76   13.05941    2.8     \n",
              "4 Desco    1       1.5      2.6     3.2      12.48   13.85897    2.8     \n",
              "5 Desco    1       1.5      2.6     3.2      12.48   13.85897    2.8     \n",
              "6 Desco    1       1.5      2.6     3.2      12.48   13.85897    2.8     \n",
              "  Width.y Height.y volumen_caja\n",
              "1 4.8     6.7      90.05       \n",
              "2 4.8     6.7      90.05       \n",
              "3 4.8     6.7      90.05       \n",
              "4 4.8     6.7      90.05       \n",
              "5 4.8     6.7      90.05       \n",
              "6 4.8     6.7      90.05       "
            ]
          },
          "metadata": {}
        }
      ]
    },
    {
      "cell_type": "code",
      "source": [
        "vol_total <- sum(df_final$volumen.x)\n",
        "vol_desperdicio <- sum(df_final$desperdicio)\n",
        "vol_cajs <- sum(df_final$volumen.y)\n",
        "vol_desperdicio*100/vol_cajs"
      ],
      "metadata": {
        "colab": {
          "base_uri": "https://localhost:8080/",
          "height": 34
        },
        "id": "YuiYTs_KxIk4",
        "outputId": "7c8a3ecb-8485-4a16-f955-bca2e4bb127c"
      },
      "execution_count": null,
      "outputs": [
        {
          "output_type": "display_data",
          "data": {
            "text/html": [
              "Inf"
            ],
            "text/markdown": "Inf",
            "text/latex": "Inf",
            "text/plain": [
              "[1] Inf"
            ]
          },
          "metadata": {}
        }
      ]
    },
    {
      "cell_type": "code",
      "source": [
        "(media <- mean(df_final$desperdicio))\n",
        "\n",
        "ggplot(df_final, aes(x = desperdicio)) +\n",
        "  geom_histogram() +\n",
        "  labs(title = \"Histograma de porcentaje de desperdicio\",\n",
        "       x = \"porcentaje de desperdicio\",\n",
        "       y = \"Frecuencia\")+\n",
        "  geom_vline(xintercept = media, color = \"red\", linetype = \"dashed\", linewidth = 1)"
      ],
      "metadata": {
        "colab": {
          "base_uri": "https://localhost:8080/",
          "height": 472
        },
        "id": "5mYeQ6jvem-R",
        "outputId": "b6b9d578-950d-47ac-d9e3-9a3c86a2c5ac"
      },
      "execution_count": null,
      "outputs": [
        {
          "output_type": "display_data",
          "data": {
            "text/html": [
              "44.6402451291156"
            ],
            "text/markdown": "44.6402451291156",
            "text/latex": "44.6402451291156",
            "text/plain": [
              "[1] 44.64025"
            ]
          },
          "metadata": {}
        },
        {
          "output_type": "stream",
          "name": "stderr",
          "text": [
            "\u001b[1m\u001b[22m`stat_bin()` using `bins = 30`. Pick better value with `binwidth`.\n"
          ]
        },
        {
          "output_type": "display_data",
          "data": {
            "text/plain": [
              "plot without title"
            ],
            "image/png": "[encoded data removed]"
          },
          "metadata": {
            "image/png": {
              "width": 420,
              "height": 420
            }
          }
        }
      ]
    }
  ]
}