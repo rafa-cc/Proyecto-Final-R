{
  "nbformat": 4,
  "nbformat_minor": 0,
  "metadata": {
    "colab": {
      "provenance": [],
      "authorship_tag": "ABX9TyOQ21/HEQ7QGDRMCqVtu9cJ",
      "include_colab_link": true
    },
    "kernelspec": {
      "name": "ir",
      "display_name": "R"
    },
    "language_info": {
      "name": "R"
    }
  },
  "cells": [
    {
      "cell_type": "markdown",
      "metadata": {
        "id": "view-in-github",
        "colab_type": "text"
      },
      "source": [
        "<a href=\"https://colab.research.google.com/github/rafa-cc/Proyecto-Final-R/blob/main/Proyecto_Final_R.ipynb\" target=\"_parent\"><img src=\"https://colab.research.google.com/assets/colab-badge.svg\" alt=\"Open In Colab\"/></a>"
      ]
    },
    {
      "cell_type": "markdown",
      "source": [
        "# __Análisis de Productos de Amazon__\n",
        "__💬 Descripción:__\n",
        "\n",
        "> En este proyecto se usan datos sobre productos de comestibles de Amazon. Se cuenta con columnas como cifras de ventas, ingresos, dimensiones del producto, calificaciones y otras métricas esenciales.\n",
        "\n",
        "__🎯 Objetivos:__\n",
        "> - Clasificar los productos en categorías de tamaño basado en sus dimensiones.\n",
        "- Proponer dimensiones para el empaquetado más óptimo en cada categoría.\n",
        "- Probar si la calificación promedio de los clientes afecta las ventas.\n",
        "- Examinar cómo se relaciona el precio con otras variables.\n",
        "- Analizar la estacionalidad de las ventas.\n",
        "- Clasificar los productos en categorías de alto, medio o bajo rendimiento basado en sus características.\n",
        "\n",
        "\n",
        "\n",
        "El trabajo está divido en las siguientes secciones:\n",
        "\n",
        "◉ _Librerías_  ◉ _Importación_  ◉ _Análisis Exploratorio (EDA)_  ◉ _Ingeniería de Variables_  ◉ _Análisis de Empaquetado_"
      ],
      "metadata": {
        "id": "BP_M3QWD-dvi"
      }
    },
    {
      "cell_type": "markdown",
      "source": [
        "## __Librerías__"
      ],
      "metadata": {
        "id": "oLOBm94aNaKM"
      }
    },
    {
      "cell_type": "code",
      "source": [
        "install.packages(\"e1071\")\n",
        "library(dplyr)\n",
        "library(ggplot2)\n",
        "library(e1071)\n",
        "separate <- tidyr::separate # Se usa para la separación de la columna 'Dimensions'"
      ],
      "metadata": {
        "id": "Xkou0v-ONeiT",
        "colab": {
          "base_uri": "https://localhost:8080/"
        },
        "outputId": "12804cf7-340e-4b8c-d8d9-11795bf6cecf"
      },
      "execution_count": 2,
      "outputs": [
        {
          "output_type": "stream",
          "name": "stderr",
          "text": [
            "Installing package into ‘/usr/local/lib/R/site-library’\n",
            "(as ‘lib’ is unspecified)\n",
            "\n",
            "also installing the dependency ‘proxy’\n",
            "\n",
            "\n",
            "\n",
            "Attaching package: ‘dplyr’\n",
            "\n",
            "\n",
            "The following objects are masked from ‘package:stats’:\n",
            "\n",
            "    filter, lag\n",
            "\n",
            "\n",
            "The following objects are masked from ‘package:base’:\n",
            "\n",
            "    intersect, setdiff, setequal, union\n",
            "\n",
            "\n"
          ]
        }
      ]
    },
    {
      "cell_type": "markdown",
      "source": [
        "## __Importación__"
      ],
      "metadata": {
        "id": "bTIN46rmNnn0"
      }
    },
    {
      "cell_type": "markdown",
      "source": [
        "💡 El data set se encuentra [aquí](https://github.com/rafa-cc/Proyecto-Final-R/blob/main/dataset.csv)"
      ],
      "metadata": {
        "id": "LUAEHIQ5r8VP"
      }
    },
    {
      "cell_type": "code",
      "execution_count": 3,
      "metadata": {
        "id": "4Z61RnWV-D1G"
      },
      "outputs": [],
      "source": [
        "# El dataset se encuentra en el repositorio del proyecto\n",
        "# Parece que el link se actualiza, volver a copiarlo si es necesario\n",
        "df_raw <- read.csv(\"https://raw.githubusercontent.com/rafa-cc/Proyecto-Final-R/main/dataset.csv\")"
      ]
    },
    {
      "cell_type": "markdown",
      "source": [
        "## __Análisis Exploratorio__"
      ],
      "metadata": {
        "id": "bBZS9EXPOMAn"
      }
    },
    {
      "cell_type": "code",
      "source": [
        "head(df_raw)"
      ],
      "metadata": {
        "colab": {
          "base_uri": "https://localhost:8080/",
          "height": 705
        },
        "id": "Ezn_Q27FTKnA",
        "outputId": "b982994b-3542-41cf-f8db-fc8b0fbfbe5e"
      },
      "execution_count": 4,
      "outputs": [
        {
          "output_type": "display_data",
          "data": {
            "text/html": [
              "<table class=\"dataframe\">\n",
              "<caption>A data.frame: 6 × 20</caption>\n",
              "<thead>\n",
              "\t<tr><th></th><th scope=col>Product.Details</th><th scope=col>ASIN</th><th scope=col>Brand</th><th scope=col>Price</th><th scope=col>Sales</th><th scope=col>Revenue</th><th scope=col>BSR</th><th scope=col>FBA.Fees</th><th scope=col>Active.Sellers..</th><th scope=col>Ratings</th><th scope=col>Review.Count</th><th scope=col>Images</th><th scope=col>Review.velocity</th><th scope=col>Buy.Box</th><th scope=col>Category</th><th scope=col>Size.Tier</th><th scope=col>Delivery</th><th scope=col>Dimensions</th><th scope=col>Weight</th><th scope=col>Creation.Date</th></tr>\n",
              "\t<tr><th></th><th scope=col>&lt;chr&gt;</th><th scope=col>&lt;chr&gt;</th><th scope=col>&lt;chr&gt;</th><th scope=col>&lt;dbl&gt;</th><th scope=col>&lt;int&gt;</th><th scope=col>&lt;int&gt;</th><th scope=col>&lt;int&gt;</th><th scope=col>&lt;dbl&gt;</th><th scope=col>&lt;int&gt;</th><th scope=col>&lt;int&gt;</th><th scope=col>&lt;int&gt;</th><th scope=col>&lt;int&gt;</th><th scope=col>&lt;int&gt;</th><th scope=col>&lt;chr&gt;</th><th scope=col>&lt;chr&gt;</th><th scope=col>&lt;chr&gt;</th><th scope=col>&lt;chr&gt;</th><th scope=col>&lt;chr&gt;</th><th scope=col>&lt;dbl&gt;</th><th scope=col>&lt;chr&gt;</th></tr>\n",
              "</thead>\n",
              "<tbody>\n",
              "\t<tr><th scope=row>1</th><td>Lindt Lindor Milk Chocolate Truffles Box - The Ideal Gift - Chocolate Balls with a Smooth Melting Filling, 200 g</td><td>B00NW479QO</td><td>Lindt  </td><td> 3.50</td><td>13466</td><td> 47131</td><td>3</td><td> 2.62</td><td>30</td><td>5</td><td>44069</td><td>12</td><td>868</td><td>Amazon     </td><td>Food Cupboard       </td><td>Small Oversize</td><td>AMZ</td><td>4.2x6.3x3.1   </td><td>0.51</td><td>9/26/2014 </td></tr>\n",
              "\t<tr><th scope=row>2</th><td>Andrex Toilet Roll - Gentle Clean Toilet Paper, 45 Toilet Rolls                                                 </td><td>B004OCO20E</td><td>Andrex </td><td>18.28</td><td>13338</td><td>243819</td><td>2</td><td> 8.38</td><td>30</td><td>5</td><td>40397</td><td> 5</td><td>830</td><td>Amazon     </td><td>Grocery             </td><td>Large Oversize</td><td>AMZ</td><td>13.5x21.8x13.0</td><td>9.77</td><td>2/17/2011 </td></tr>\n",
              "\t<tr><th scope=row>3</th><td><span style=white-space:pre-wrap>Baileys Original Irish Cream Liqueur 1L                                                                         </span></td><td>B0049NYI7K</td><td>BAILEYS</td><td> 9.99</td><td>11194</td><td>111828</td><td>4</td><td> 3.93</td><td>22</td><td>5</td><td> 3827</td><td> 6</td><td>235</td><td><span style=white-space:pre-wrap>Amazon     </span></td><td>Beer, Wine &amp; Spirits</td><td>Large Oversize</td><td>AMZ</td><td><span style=white-space:pre-wrap>3.7x12.2x3.7  </span></td><td>3.73</td><td>10/21/2010</td></tr>\n",
              "\t<tr><th scope=row>4</th><td><span style=white-space:pre-wrap>Tassimo Kenco Americano Grande Coffee Pods (Pack of 5, Total 80 Coffee Capsules)                                </span></td><td>B016DEGFWI</td><td>Tassimo</td><td>14.87</td><td>13492</td><td>200626</td><td>2</td><td> 5.19</td><td>11</td><td>5</td><td>28800</td><td> 5</td><td>466</td><td><span style=white-space:pre-wrap>Amazon     </span></td><td><span style=white-space:pre-wrap>Fresh &amp; Chilled     </span></td><td>Large Oversize</td><td>AMZ</td><td><span style=white-space:pre-wrap>6.8x15.5x6.2  </span></td><td>3.26</td><td><span style=white-space:pre-wrap>8/4/2010  </span></td></tr>\n",
              "\t<tr><th scope=row>5</th><td>Tassimo Costa Gingerbread Latte Coffee Pods (Pack of 5, Total 40 Coffee Capsules)                               </td><td>B07JVF2FCV</td><td>Tassimo</td><td>45.00</td><td>13377</td><td>601965</td><td>6</td><td>11.03</td><td> 1</td><td>5</td><td>27494</td><td> 9</td><td>223</td><td>Bountyville</td><td>Drinks              </td><td>Large Oversize</td><td>FBA</td><td>6.7x15.4x6.1  </td><td>4.74</td><td>9/3/2018  </td></tr>\n",
              "\t<tr><th scope=row>6</th><td>Regina XXL Kitchen Roll, 8 Rolls, 600 Extra Large Sheets                                                        </td><td>B07T2SCHM7</td><td>Regina </td><td> 8.00</td><td>11983</td><td> 95864</td><td>5</td><td> 6.16</td><td>21</td><td>5</td><td>11120</td><td> 6</td><td>701</td><td>           </td><td>Grocery             </td><td>Large Oversize</td><td>MFN</td><td>10.6x34.6x5.1 </td><td>5.34</td><td>5/1/2020  </td></tr>\n",
              "</tbody>\n",
              "</table>\n"
            ],
            "text/markdown": "\nA data.frame: 6 × 20\n\n| <!--/--> | Product.Details &lt;chr&gt; | ASIN &lt;chr&gt; | Brand &lt;chr&gt; | Price &lt;dbl&gt; | Sales &lt;int&gt; | Revenue &lt;int&gt; | BSR &lt;int&gt; | FBA.Fees &lt;dbl&gt; | Active.Sellers.. &lt;int&gt; | Ratings &lt;int&gt; | Review.Count &lt;int&gt; | Images &lt;int&gt; | Review.velocity &lt;int&gt; | Buy.Box &lt;chr&gt; | Category &lt;chr&gt; | Size.Tier &lt;chr&gt; | Delivery &lt;chr&gt; | Dimensions &lt;chr&gt; | Weight &lt;dbl&gt; | Creation.Date &lt;chr&gt; |\n|---|---|---|---|---|---|---|---|---|---|---|---|---|---|---|---|---|---|---|---|---|\n| 1 | Lindt Lindor Milk Chocolate Truffles Box - The Ideal Gift - Chocolate Balls with a Smooth Melting Filling, 200 g | B00NW479QO | Lindt   |  3.50 | 13466 |  47131 | 3 |  2.62 | 30 | 5 | 44069 | 12 | 868 | Amazon      | Food Cupboard        | Small Oversize | AMZ | 4.2x6.3x3.1    | 0.51 | 9/26/2014  |\n| 2 | Andrex Toilet Roll - Gentle Clean Toilet Paper, 45 Toilet Rolls                                                  | B004OCO20E | Andrex  | 18.28 | 13338 | 243819 | 2 |  8.38 | 30 | 5 | 40397 |  5 | 830 | Amazon      | Grocery              | Large Oversize | AMZ | 13.5x21.8x13.0 | 9.77 | 2/17/2011  |\n| 3 | Baileys Original Irish Cream Liqueur 1L                                                                          | B0049NYI7K | BAILEYS |  9.99 | 11194 | 111828 | 4 |  3.93 | 22 | 5 |  3827 |  6 | 235 | Amazon      | Beer, Wine &amp; Spirits | Large Oversize | AMZ | 3.7x12.2x3.7   | 3.73 | 10/21/2010 |\n| 4 | Tassimo Kenco Americano Grande Coffee Pods (Pack of 5, Total 80 Coffee Capsules)                                 | B016DEGFWI | Tassimo | 14.87 | 13492 | 200626 | 2 |  5.19 | 11 | 5 | 28800 |  5 | 466 | Amazon      | Fresh &amp; Chilled      | Large Oversize | AMZ | 6.8x15.5x6.2   | 3.26 | 8/4/2010   |\n| 5 | Tassimo Costa Gingerbread Latte Coffee Pods (Pack of 5, Total 40 Coffee Capsules)                                | B07JVF2FCV | Tassimo | 45.00 | 13377 | 601965 | 6 | 11.03 |  1 | 5 | 27494 |  9 | 223 | Bountyville | Drinks               | Large Oversize | FBA | 6.7x15.4x6.1   | 4.74 | 9/3/2018   |\n| 6 | Regina XXL Kitchen Roll, 8 Rolls, 600 Extra Large Sheets                                                         | B07T2SCHM7 | Regina  |  8.00 | 11983 |  95864 | 5 |  6.16 | 21 | 5 | 11120 |  6 | 701 | <!----> | Grocery              | Large Oversize | MFN | 10.6x34.6x5.1  | 5.34 | 5/1/2020   |\n\n",
            "text/latex": "A data.frame: 6 × 20\n\\begin{tabular}{r|llllllllllllllllllll}\n  & Product.Details & ASIN & Brand & Price & Sales & Revenue & BSR & FBA.Fees & Active.Sellers.. & Ratings & Review.Count & Images & Review.velocity & Buy.Box & Category & Size.Tier & Delivery & Dimensions & Weight & Creation.Date\\\\\n  & <chr> & <chr> & <chr> & <dbl> & <int> & <int> & <int> & <dbl> & <int> & <int> & <int> & <int> & <int> & <chr> & <chr> & <chr> & <chr> & <chr> & <dbl> & <chr>\\\\\n\\hline\n\t1 & Lindt Lindor Milk Chocolate Truffles Box - The Ideal Gift - Chocolate Balls with a Smooth Melting Filling, 200 g & B00NW479QO & Lindt   &  3.50 & 13466 &  47131 & 3 &  2.62 & 30 & 5 & 44069 & 12 & 868 & Amazon      & Food Cupboard        & Small Oversize & AMZ & 4.2x6.3x3.1    & 0.51 & 9/26/2014 \\\\\n\t2 & Andrex Toilet Roll - Gentle Clean Toilet Paper, 45 Toilet Rolls                                                  & B004OCO20E & Andrex  & 18.28 & 13338 & 243819 & 2 &  8.38 & 30 & 5 & 40397 &  5 & 830 & Amazon      & Grocery              & Large Oversize & AMZ & 13.5x21.8x13.0 & 9.77 & 2/17/2011 \\\\\n\t3 & Baileys Original Irish Cream Liqueur 1L                                                                          & B0049NYI7K & BAILEYS &  9.99 & 11194 & 111828 & 4 &  3.93 & 22 & 5 &  3827 &  6 & 235 & Amazon      & Beer, Wine \\& Spirits & Large Oversize & AMZ & 3.7x12.2x3.7   & 3.73 & 10/21/2010\\\\\n\t4 & Tassimo Kenco Americano Grande Coffee Pods (Pack of 5, Total 80 Coffee Capsules)                                 & B016DEGFWI & Tassimo & 14.87 & 13492 & 200626 & 2 &  5.19 & 11 & 5 & 28800 &  5 & 466 & Amazon      & Fresh \\& Chilled      & Large Oversize & AMZ & 6.8x15.5x6.2   & 3.26 & 8/4/2010  \\\\\n\t5 & Tassimo Costa Gingerbread Latte Coffee Pods (Pack of 5, Total 40 Coffee Capsules)                                & B07JVF2FCV & Tassimo & 45.00 & 13377 & 601965 & 6 & 11.03 &  1 & 5 & 27494 &  9 & 223 & Bountyville & Drinks               & Large Oversize & FBA & 6.7x15.4x6.1   & 4.74 & 9/3/2018  \\\\\n\t6 & Regina XXL Kitchen Roll, 8 Rolls, 600 Extra Large Sheets                                                         & B07T2SCHM7 & Regina  &  8.00 & 11983 &  95864 & 5 &  6.16 & 21 & 5 & 11120 &  6 & 701 &             & Grocery              & Large Oversize & MFN & 10.6x34.6x5.1  & 5.34 & 5/1/2020  \\\\\n\\end{tabular}\n",
            "text/plain": [
              "  Product.Details                                                                                                 \n",
              "1 Lindt Lindor Milk Chocolate Truffles Box - The Ideal Gift - Chocolate Balls with a Smooth Melting Filling, 200 g\n",
              "2 Andrex Toilet Roll - Gentle Clean Toilet Paper, 45 Toilet Rolls                                                 \n",
              "3 Baileys Original Irish Cream Liqueur 1L                                                                         \n",
              "4 Tassimo Kenco Americano Grande Coffee Pods (Pack of 5, Total 80 Coffee Capsules)                                \n",
              "5 Tassimo Costa Gingerbread Latte Coffee Pods (Pack of 5, Total 40 Coffee Capsules)                               \n",
              "6 Regina XXL Kitchen Roll, 8 Rolls, 600 Extra Large Sheets                                                        \n",
              "  ASIN       Brand   Price Sales Revenue BSR FBA.Fees Active.Sellers.. Ratings\n",
              "1 B00NW479QO Lindt    3.50 13466  47131  3    2.62    30               5      \n",
              "2 B004OCO20E Andrex  18.28 13338 243819  2    8.38    30               5      \n",
              "3 B0049NYI7K BAILEYS  9.99 11194 111828  4    3.93    22               5      \n",
              "4 B016DEGFWI Tassimo 14.87 13492 200626  2    5.19    11               5      \n",
              "5 B07JVF2FCV Tassimo 45.00 13377 601965  6   11.03     1               5      \n",
              "6 B07T2SCHM7 Regina   8.00 11983  95864  5    6.16    21               5      \n",
              "  Review.Count Images Review.velocity Buy.Box     Category            \n",
              "1 44069        12     868             Amazon      Food Cupboard       \n",
              "2 40397         5     830             Amazon      Grocery             \n",
              "3  3827         6     235             Amazon      Beer, Wine & Spirits\n",
              "4 28800         5     466             Amazon      Fresh & Chilled     \n",
              "5 27494         9     223             Bountyville Drinks              \n",
              "6 11120         6     701                         Grocery             \n",
              "  Size.Tier      Delivery Dimensions     Weight Creation.Date\n",
              "1 Small Oversize AMZ      4.2x6.3x3.1    0.51   9/26/2014    \n",
              "2 Large Oversize AMZ      13.5x21.8x13.0 9.77   2/17/2011    \n",
              "3 Large Oversize AMZ      3.7x12.2x3.7   3.73   10/21/2010   \n",
              "4 Large Oversize AMZ      6.8x15.5x6.2   3.26   8/4/2010     \n",
              "5 Large Oversize FBA      6.7x15.4x6.1   4.74   9/3/2018     \n",
              "6 Large Oversize MFN      10.6x34.6x5.1  5.34   5/1/2020     "
            ]
          },
          "metadata": {}
        }
      ]
    },
    {
      "cell_type": "code",
      "source": [
        "names(df_raw)"
      ],
      "metadata": {
        "colab": {
          "base_uri": "https://localhost:8080/",
          "height": 52
        },
        "id": "PkpbxOPCOQgx",
        "outputId": "4734acce-4ef9-4d69-ec0d-43971edf49cf"
      },
      "execution_count": 5,
      "outputs": [
        {
          "output_type": "display_data",
          "data": {
            "text/html": [
              "<style>\n",
              ".list-inline {list-style: none; margin:0; padding: 0}\n",
              ".list-inline>li {display: inline-block}\n",
              ".list-inline>li:not(:last-child)::after {content: \"\\00b7\"; padding: 0 .5ex}\n",
              "</style>\n",
              "<ol class=list-inline><li>'Product.Details'</li><li>'ASIN'</li><li>'Brand'</li><li>'Price'</li><li>'Sales'</li><li>'Revenue'</li><li>'BSR'</li><li>'FBA.Fees'</li><li>'Active.Sellers..'</li><li>'Ratings'</li><li>'Review.Count'</li><li>'Images'</li><li>'Review.velocity'</li><li>'Buy.Box'</li><li>'Category'</li><li>'Size.Tier'</li><li>'Delivery'</li><li>'Dimensions'</li><li>'Weight'</li><li>'Creation.Date'</li></ol>\n"
            ],
            "text/markdown": "1. 'Product.Details'\n2. 'ASIN'\n3. 'Brand'\n4. 'Price'\n5. 'Sales'\n6. 'Revenue'\n7. 'BSR'\n8. 'FBA.Fees'\n9. 'Active.Sellers..'\n10. 'Ratings'\n11. 'Review.Count'\n12. 'Images'\n13. 'Review.velocity'\n14. 'Buy.Box'\n15. 'Category'\n16. 'Size.Tier'\n17. 'Delivery'\n18. 'Dimensions'\n19. 'Weight'\n20. 'Creation.Date'\n\n\n",
            "text/latex": "\\begin{enumerate*}\n\\item 'Product.Details'\n\\item 'ASIN'\n\\item 'Brand'\n\\item 'Price'\n\\item 'Sales'\n\\item 'Revenue'\n\\item 'BSR'\n\\item 'FBA.Fees'\n\\item 'Active.Sellers..'\n\\item 'Ratings'\n\\item 'Review.Count'\n\\item 'Images'\n\\item 'Review.velocity'\n\\item 'Buy.Box'\n\\item 'Category'\n\\item 'Size.Tier'\n\\item 'Delivery'\n\\item 'Dimensions'\n\\item 'Weight'\n\\item 'Creation.Date'\n\\end{enumerate*}\n",
            "text/plain": [
              " [1] \"Product.Details\"  \"ASIN\"             \"Brand\"            \"Price\"           \n",
              " [5] \"Sales\"            \"Revenue\"          \"BSR\"              \"FBA.Fees\"        \n",
              " [9] \"Active.Sellers..\" \"Ratings\"          \"Review.Count\"     \"Images\"          \n",
              "[13] \"Review.velocity\"  \"Buy.Box\"          \"Category\"         \"Size.Tier\"       \n",
              "[17] \"Delivery\"         \"Dimensions\"       \"Weight\"           \"Creation.Date\"   "
            ]
          },
          "metadata": {}
        }
      ]
    },
    {
      "cell_type": "code",
      "source": [
        "# Descartar las columnas que no son de interés y dividir la columna 'Dimensions' en 'Length', 'Width' y 'Height'\n",
        "\n",
        "df <- select(df_raw,-Brand, -ASIN, -Review.velocity, -Images, -Buy.Box, -Size.Tier, -Delivery, -Weight, -FBA.Fees) %>%\n",
        "      separate(Dimensions, into = c(\"Length\", \"Width\", \"Height\"), sep = \"x\", convert = TRUE)\n",
        "names(df)"
      ],
      "metadata": {
        "colab": {
          "base_uri": "https://localhost:8080/",
          "height": 106
        },
        "id": "8QGHumHRT2BE",
        "outputId": "c075f86a-99cd-4843-8c5a-363cbcff1edd"
      },
      "execution_count": 6,
      "outputs": [
        {
          "output_type": "stream",
          "name": "stderr",
          "text": [
            "Warning message:\n",
            "“\u001b[1m\u001b[22mExpected 3 pieces. Missing pieces filled with `NA` in 1516 rows [51, 62, 66,\n",
            "99, 114, 131, 147, 191, 203, 209, 212, 213, 218, 226, 227, 229, 231, 232, 234,\n",
            "235, ...].”\n"
          ]
        },
        {
          "output_type": "display_data",
          "data": {
            "text/html": [
              "<style>\n",
              ".list-inline {list-style: none; margin:0; padding: 0}\n",
              ".list-inline>li {display: inline-block}\n",
              ".list-inline>li:not(:last-child)::after {content: \"\\00b7\"; padding: 0 .5ex}\n",
              "</style>\n",
              "<ol class=list-inline><li>'Product.Details'</li><li>'Price'</li><li>'Sales'</li><li>'Revenue'</li><li>'BSR'</li><li>'Active.Sellers..'</li><li>'Ratings'</li><li>'Review.Count'</li><li>'Category'</li><li>'Length'</li><li>'Width'</li><li>'Height'</li><li>'Creation.Date'</li></ol>\n"
            ],
            "text/markdown": "1. 'Product.Details'\n2. 'Price'\n3. 'Sales'\n4. 'Revenue'\n5. 'BSR'\n6. 'Active.Sellers..'\n7. 'Ratings'\n8. 'Review.Count'\n9. 'Category'\n10. 'Length'\n11. 'Width'\n12. 'Height'\n13. 'Creation.Date'\n\n\n",
            "text/latex": "\\begin{enumerate*}\n\\item 'Product.Details'\n\\item 'Price'\n\\item 'Sales'\n\\item 'Revenue'\n\\item 'BSR'\n\\item 'Active.Sellers..'\n\\item 'Ratings'\n\\item 'Review.Count'\n\\item 'Category'\n\\item 'Length'\n\\item 'Width'\n\\item 'Height'\n\\item 'Creation.Date'\n\\end{enumerate*}\n",
            "text/plain": [
              " [1] \"Product.Details\"  \"Price\"            \"Sales\"            \"Revenue\"         \n",
              " [5] \"BSR\"              \"Active.Sellers..\" \"Ratings\"          \"Review.Count\"    \n",
              " [9] \"Category\"         \"Length\"           \"Width\"            \"Height\"          \n",
              "[13] \"Creation.Date\"   "
            ]
          },
          "metadata": {}
        }
      ]
    },
    {
      "cell_type": "code",
      "source": [
        "# Contar los datos nulos en cada columna\n",
        "sapply(df, function(x) sum(is.na(x)))"
      ],
      "metadata": {
        "colab": {
          "base_uri": "https://localhost:8080/",
          "height": 52
        },
        "id": "VhQI5KFkXMTA",
        "outputId": "3cae9b57-9d00-40eb-c8c9-8025e359eceb"
      },
      "execution_count": 7,
      "outputs": [
        {
          "output_type": "display_data",
          "data": {
            "text/html": [
              "<style>\n",
              ".dl-inline {width: auto; margin:0; padding: 0}\n",
              ".dl-inline>dt, .dl-inline>dd {float: none; width: auto; display: inline-block}\n",
              ".dl-inline>dt::after {content: \":\\0020\"; padding-right: .5ex}\n",
              ".dl-inline>dt:not(:first-of-type) {padding-left: .5ex}\n",
              "</style><dl class=dl-inline><dt>Product.Details</dt><dd>0</dd><dt>Price</dt><dd>1264</dd><dt>Sales</dt><dd>1802</dd><dt>Revenue</dt><dd>1511</dd><dt>BSR</dt><dd>453</dd><dt>Active.Sellers..</dt><dd>51</dd><dt>Ratings</dt><dd>828</dd><dt>Review.Count</dt><dd>828</dd><dt>Category</dt><dd>0</dd><dt>Length</dt><dd>1516</dd><dt>Width</dt><dd>1516</dd><dt>Height</dt><dd>1516</dd><dt>Creation.Date</dt><dd>0</dd></dl>\n"
            ],
            "text/markdown": "Product.Details\n:   0Price\n:   1264Sales\n:   1802Revenue\n:   1511BSR\n:   453Active.Sellers..\n:   51Ratings\n:   828Review.Count\n:   828Category\n:   0Length\n:   1516Width\n:   1516Height\n:   1516Creation.Date\n:   0\n\n",
            "text/latex": "\\begin{description*}\n\\item[Product.Details] 0\n\\item[Price] 1264\n\\item[Sales] 1802\n\\item[Revenue] 1511\n\\item[BSR] 453\n\\item[Active.Sellers..] 51\n\\item[Ratings] 828\n\\item[Review.Count] 828\n\\item[Category] 0\n\\item[Length] 1516\n\\item[Width] 1516\n\\item[Height] 1516\n\\item[Creation.Date] 0\n\\end{description*}\n",
            "text/plain": [
              " Product.Details            Price            Sales          Revenue \n",
              "               0             1264             1802             1511 \n",
              "             BSR Active.Sellers..          Ratings     Review.Count \n",
              "             453               51              828              828 \n",
              "        Category           Length            Width           Height \n",
              "               0             1516             1516             1516 \n",
              "   Creation.Date \n",
              "               0 "
            ]
          },
          "metadata": {}
        }
      ]
    },
    {
      "cell_type": "code",
      "source": [
        "# Nuevo dataframe que solo incluye las filas sin valores nulos en las columnas 'Price' y 'Sales'\n",
        "df_sin_nulos <- df[complete.cases(df$Price, df$Sales), ]\n",
        "\n",
        "# Aún hay datos nulos pero pueden descartarse en otro momento específico\n",
        "sapply(df_sin_nulos, function(x) sum(is.na(x)))"
      ],
      "metadata": {
        "colab": {
          "base_uri": "https://localhost:8080/",
          "height": 52
        },
        "id": "anJ1yHq7Xi9W",
        "outputId": "769b8f02-6a6a-4669-de8d-4a73f408315a"
      },
      "execution_count": 8,
      "outputs": [
        {
          "output_type": "display_data",
          "data": {
            "text/html": [
              "<style>\n",
              ".dl-inline {width: auto; margin:0; padding: 0}\n",
              ".dl-inline>dt, .dl-inline>dd {float: none; width: auto; display: inline-block}\n",
              ".dl-inline>dt::after {content: \":\\0020\"; padding-right: .5ex}\n",
              ".dl-inline>dt:not(:first-of-type) {padding-left: .5ex}\n",
              "</style><dl class=dl-inline><dt>Product.Details</dt><dd>0</dd><dt>Price</dt><dd>0</dd><dt>Sales</dt><dd>0</dd><dt>Revenue</dt><dd>0</dd><dt>BSR</dt><dd>0</dd><dt>Active.Sellers..</dt><dd>36</dd><dt>Ratings</dt><dd>238</dd><dt>Review.Count</dt><dd>238</dd><dt>Category</dt><dd>0</dd><dt>Length</dt><dd>667</dd><dt>Width</dt><dd>667</dd><dt>Height</dt><dd>667</dd><dt>Creation.Date</dt><dd>0</dd></dl>\n"
            ],
            "text/markdown": "Product.Details\n:   0Price\n:   0Sales\n:   0Revenue\n:   0BSR\n:   0Active.Sellers..\n:   36Ratings\n:   238Review.Count\n:   238Category\n:   0Length\n:   667Width\n:   667Height\n:   667Creation.Date\n:   0\n\n",
            "text/latex": "\\begin{description*}\n\\item[Product.Details] 0\n\\item[Price] 0\n\\item[Sales] 0\n\\item[Revenue] 0\n\\item[BSR] 0\n\\item[Active.Sellers..] 36\n\\item[Ratings] 238\n\\item[Review.Count] 238\n\\item[Category] 0\n\\item[Length] 667\n\\item[Width] 667\n\\item[Height] 667\n\\item[Creation.Date] 0\n\\end{description*}\n",
            "text/plain": [
              " Product.Details            Price            Sales          Revenue \n",
              "               0                0                0                0 \n",
              "             BSR Active.Sellers..          Ratings     Review.Count \n",
              "               0               36              238              238 \n",
              "        Category           Length            Width           Height \n",
              "               0              667              667              667 \n",
              "   Creation.Date \n",
              "               0 "
            ]
          },
          "metadata": {}
        }
      ]
    },
    {
      "cell_type": "code",
      "source": [
        "# Casting de 'Creation.Date'\n",
        "df_sin_nulos$Creation.Date <- as.Date(df_sin_nulos$Creation.Date, format = '%d/%m/%Y')\n",
        "\n",
        "# Factor de 'Ratings'\n",
        "df_sin_nulos$Ratings <- factor(df_sin_nulos$Ratings, ordered = TRUE)\n",
        "\n",
        "summary(df_sin_nulos)"
      ],
      "metadata": {
        "colab": {
          "base_uri": "https://localhost:8080/",
          "height": 586
        },
        "id": "lm2mVVezhA1C",
        "outputId": "a9f39120-8ec6-455d-9d6a-eb29257bd8c5"
      },
      "execution_count": 9,
      "outputs": [
        {
          "output_type": "display_data",
          "data": {
            "text/plain": [
              " Product.Details        Price            Sales            Revenue        \n",
              " Length:4242        Min.   :  0.50   Min.   :    0.0   Min.   :     0.0  \n",
              " Class :character   1st Qu.:  7.98   1st Qu.:   14.0   1st Qu.:   198.2  \n",
              " Mode  :character   Median : 12.99   Median :  114.5   Median :  1303.0  \n",
              "                    Mean   : 15.09   Mean   : 1046.5   Mean   : 12900.9  \n",
              "                    3rd Qu.: 19.99   3rd Qu.:  619.0   3rd Qu.:  6876.0  \n",
              "                    Max.   :254.99   Max.   :23288.0   Max.   :601965.0  \n",
              "                                                                         \n",
              "      BSR          Active.Sellers..  Ratings      Review.Count    \n",
              " Min.   :      0   Min.   :  1.000   1   :  10   Min.   :    1.0  \n",
              " 1st Qu.:   2896   1st Qu.:  1.000   2   :   8   1st Qu.:   23.0  \n",
              " Median :  11652   Median :  2.000   3   :  67   Median :  168.5  \n",
              " Mean   :  38034   Mean   :  4.842   4   :1175   Mean   : 1157.0  \n",
              " 3rd Qu.:  58930   3rd Qu.:  5.000   5   :2744   3rd Qu.:  680.2  \n",
              " Max.   :1097476   Max.   :135.000   NA's: 238   Max.   :66998.0  \n",
              "                   NA's   :36                    NA's   :238      \n",
              "   Category             Length           Width          Height      \n",
              " Length:4242        Min.   : 0.000   Min.   : 0.0   Min.   : 0.000  \n",
              " Class :character   1st Qu.: 4.700   1st Qu.: 7.9   1st Qu.: 2.600  \n",
              " Mode  :character   Median : 6.500   Median :10.1   Median : 3.500  \n",
              "                    Mean   : 6.814   Mean   :10.3   Mean   : 4.141  \n",
              "                    3rd Qu.: 8.800   3rd Qu.:12.4   3rd Qu.: 5.600  \n",
              "                    Max.   :69.300   Max.   :98.4   Max.   :27.600  \n",
              "                    NA's   :667      NA's   :667    NA's   :667     \n",
              " Creation.Date       \n",
              " Min.   :2006-01-01  \n",
              " 1st Qu.:2015-12-09  \n",
              " Median :2018-12-10  \n",
              " Mean   :2017-10-31  \n",
              " 3rd Qu.:2020-08-12  \n",
              " Max.   :2021-12-11  \n",
              " NA's   :2398        "
            ]
          },
          "metadata": {}
        }
      ]
    },
    {
      "cell_type": "markdown",
      "source": [
        "## __Ingeniería de Variables__"
      ],
      "metadata": {
        "id": "pglFYnNz2qac"
      }
    },
    {
      "cell_type": "code",
      "source": [
        "# Valores únicos de 'Category'\n",
        "print(unique(df_sin_nulos$Category))"
      ],
      "metadata": {
        "colab": {
          "base_uri": "https://localhost:8080/"
        },
        "id": "j6i2kwNo8jGy",
        "outputId": "57cd40f8-5bd6-4071-efe1-28758f079eb5"
      },
      "execution_count": 10,
      "outputs": [
        {
          "output_type": "stream",
          "name": "stdout",
          "text": [
            " [1] \"Food Cupboard\"                    \"Grocery\"                         \n",
            " [3] \"Beer, Wine & Spirits\"             \"Fresh & Chilled\"                 \n",
            " [5] \"Drinks\"                           \"Home & Kitchen\"                  \n",
            " [7] \"Business, Industry & Science\"     \"Automotive\"                      \n",
            " [9] \"Hampers & Gourmet Gifts\"          \"Health & Personal Care\"          \n",
            "[11] \"Outdoor Recreation\"               \"Cooking & Dining\"                \n",
            "[13] \"Diet & Nutrition\"                 \"Home Accessories\"                \n",
            "[15] \"Vitamins, Minerals & Supplements\" \"Frozen\"                          \n",
            "[17] \"Bakery\"                           \"Garden & Outdoors\"               \n",
            "[19] \"Toys & Games\"                     \"Beauty\"                          \n"
          ]
        }
      ]
    },
    {
      "cell_type": "markdown",
      "source": [
        "Estas categorias podrías simplificarse tentativamente en la siguiente forma:\n",
        "\n",
        "> | Category | Subcategories |\n",
        "|---|---|\n",
        "| **Alimentos y despensa** |   ◉ Food Cupboard  ◉ Grocery  ◉ Fresh & Chilled   ◉ Cooking & Dining   ◉ Frozen   ◉ Bakery |\n",
        "| **Bebidas** |   ◉ Beer, Wine & Spirits   ◉ Drinks |\n",
        "| **Hogar y cocina** |   ◉ Home & Kitchen   ◉ Home Accessories   ◉ Garden & Outdoors |\n",
        "| **Cuidado personal y salud** |   ◉ Health & Personal Care   ◉ Beauty   ◉ Vitamins, Minerals & Supplements   ◉ Diet & Nutrition |\n",
        "| **Regalos y ocio** |   ◉ Hampers & Gourmet Gifts   ◉ Outdoor Recreation   ◉ Toys & Games |\n",
        "| **Industria y ciencia** |   ◉ Business, Industry & Science   ◉ Automotive |\n",
        "\n",
        "\n",
        "\n",
        "\n"
      ],
      "metadata": {
        "id": "EsqtV25LvEf_"
      }
    },
    {
      "cell_type": "code",
      "source": [
        "# Definir las categorías de agrupación\n",
        "categorias <- list(\n",
        "  Food_Grocery = c(\"Food Cupboard\", \"Grocery\", \"Fresh & Chilled\", \"Cooking & Dining\", \"Frozen\", \"Bakery\"),\n",
        "  Drinks = c(\"Beer, Wine & Spirits\", \"Drinks\"),\n",
        "  Home_Kitchen = c(\"Home & Kitchen\", \"Home Accessories\", \"Garden & Outdoors\"),\n",
        "  Health_Care = c(\"Health & Personal Care\", \"Beauty\", \"Vitamins, Minerals & Supplements\", \"Diet & Nutrition\"),\n",
        "  Gifts_Entertainment = c(\"Hampers & Gourmet Gifts\", \"Outdoor Recreation\", \"Toys & Games\"),\n",
        "  Industry_Science = c(\"Business, Industry & Science\", \"Automotive\")\n",
        ")\n",
        "\n",
        "# Función para asignar la categoría madre\n",
        "asignar_categoria <- function(cat) {\n",
        "  for (nombre_categoria in names(categorias)) {\n",
        "    if (cat %in% categorias[[nombre_categoria]]) {\n",
        "      return(nombre_categoria)\n",
        "    }\n",
        "  }\n",
        "}\n",
        "\n",
        "# Crear la nueva columna y hacerla factor, desechar 'Category' pues ya no es necesaria\n",
        "df_main <- df_sin_nulos %>%\n",
        "  mutate(High.Category = sapply(Category, asignar_categoria)) %>%\n",
        "  mutate(High.Category = factor(High.Category)) %>%\n",
        "  select(-Category)\n",
        "\n",
        "summary(df_main)"
      ],
      "metadata": {
        "colab": {
          "base_uri": "https://localhost:8080/",
          "height": 586
        },
        "id": "JWhFXNl52amb",
        "outputId": "491fe964-d043-4357-c0b3-f2103ef7adda"
      },
      "execution_count": 11,
      "outputs": [
        {
          "output_type": "display_data",
          "data": {
            "text/plain": [
              " Product.Details        Price            Sales            Revenue        \n",
              " Length:4242        Min.   :  0.50   Min.   :    0.0   Min.   :     0.0  \n",
              " Class :character   1st Qu.:  7.98   1st Qu.:   14.0   1st Qu.:   198.2  \n",
              " Mode  :character   Median : 12.99   Median :  114.5   Median :  1303.0  \n",
              "                    Mean   : 15.09   Mean   : 1046.5   Mean   : 12900.9  \n",
              "                    3rd Qu.: 19.99   3rd Qu.:  619.0   3rd Qu.:  6876.0  \n",
              "                    Max.   :254.99   Max.   :23288.0   Max.   :601965.0  \n",
              "                                                                         \n",
              "      BSR          Active.Sellers..  Ratings      Review.Count    \n",
              " Min.   :      0   Min.   :  1.000   1   :  10   Min.   :    1.0  \n",
              " 1st Qu.:   2896   1st Qu.:  1.000   2   :   8   1st Qu.:   23.0  \n",
              " Median :  11652   Median :  2.000   3   :  67   Median :  168.5  \n",
              " Mean   :  38034   Mean   :  4.842   4   :1175   Mean   : 1157.0  \n",
              " 3rd Qu.:  58930   3rd Qu.:  5.000   5   :2744   3rd Qu.:  680.2  \n",
              " Max.   :1097476   Max.   :135.000   NA's: 238   Max.   :66998.0  \n",
              "                   NA's   :36                    NA's   :238      \n",
              "     Length           Width          Height       Creation.Date       \n",
              " Min.   : 0.000   Min.   : 0.0   Min.   : 0.000   Min.   :2006-01-01  \n",
              " 1st Qu.: 4.700   1st Qu.: 7.9   1st Qu.: 2.600   1st Qu.:2015-12-09  \n",
              " Median : 6.500   Median :10.1   Median : 3.500   Median :2018-12-10  \n",
              " Mean   : 6.814   Mean   :10.3   Mean   : 4.141   Mean   :2017-10-31  \n",
              " 3rd Qu.: 8.800   3rd Qu.:12.4   3rd Qu.: 5.600   3rd Qu.:2020-08-12  \n",
              " Max.   :69.300   Max.   :98.4   Max.   :27.600   Max.   :2021-12-11  \n",
              " NA's   :667      NA's   :667    NA's   :667      NA's   :2398        \n",
              "             High.Category \n",
              " Drinks             :2111  \n",
              " Food_Grocery       :1895  \n",
              " Gifts_Entertainment: 172  \n",
              " Health_Care        :  37  \n",
              " Home_Kitchen       :  24  \n",
              " Industry_Science   :   3  \n",
              "                           "
            ]
          },
          "metadata": {}
        }
      ]
    },
    {
      "cell_type": "markdown",
      "source": [
        "## __Análisis de Empaquetado__"
      ],
      "metadata": {
        "id": "BxMf5klmodQP"
      }
    },
    {
      "cell_type": "markdown",
      "source": [
        "Se comienza ordenando cada fila de menor a mayor, no importa si se mezaclan las columnas pues las mediciones de Length, Width, Height son subjetivas dependiendo de la orientación a la hora de medir."
      ],
      "metadata": {
        "id": "aqiZDB3SPCxZ"
      }
    },
    {
      "cell_type": "code",
      "source": [
        "# Nuevo dataframe que solo incluye las filas sin valores nulos en las columnas de dimensiones\n",
        "df_empaquetado <- df_main[complete.cases(df_main$Length), ]\n",
        "\n",
        "# En cada fila ordenar las columnas de dimensiones de menor a mayor\n",
        "df_temp <- df_empaquetado %>%\n",
        "        select(Length, Width, Height) %>%\n",
        "        apply(1, sort) %>%\n",
        "        t() %>%\n",
        "        as.data.frame() %>%\n",
        "        setNames(c(\"Length\", \"Width\", \"Height\"))\n",
        "\n",
        "# Reasignar los valores ordenados y se ordenan las filas de menos a mayor basado en 'Length'\n",
        "df_empaquetado <- df_empaquetado %>%\n",
        "        select(Length, Width, Height) %>%\n",
        "        mutate(Length = df_temp$Length, Width = df_temp$Width, Height = df_temp$Height) %>%\n",
        "        arrange(Length) %>%\n",
        "        slice(-1) # Eliminar el primer registro pues sus dimensiones son 0's\n",
        "# Reiniciar los indices después de los reordenamientos\n",
        "row.names(df_empaquetado) <- NULL\n",
        "\n",
        "# Guardar el dataframe para su análisis con Python\n",
        "write.csv(x=df_empaquetado, file=\"data.csv\", col.names = TRUE, row.names = FALSE)"
      ],
      "metadata": {
        "id": "CKB87wwhpa1E",
        "colab": {
          "base_uri": "https://localhost:8080/"
        },
        "outputId": "bf778ed2-c36a-4cce-9004-000d4ae4a321"
      },
      "execution_count": 20,
      "outputs": [
        {
          "output_type": "stream",
          "name": "stderr",
          "text": [
            "Warning message in write.csv(x = df_empaquetado, file = \"data.csv\", col.names = TRUE, :\n",
            "“attempt to set 'col.names' ignored”\n"
          ]
        }
      ]
    },
    {
      "cell_type": "markdown",
      "source": [
        "### __Análisis con Python__\n",
        "\n",
        "A partir de aquí se decidió hacer una clasificación de los posibles tipos de caja usando un modelo de maquina de soporte vectorial en Python. Conviene clasificar los empaques por la forma que tienen\n",
        "\n",
        "Basado en el razonamiento, los posibles tipos de caja propuesto fueron los siguientes:\n",
        "\n",
        "|Pizza|Cubo|Leche|Estaca|Tabla|Desconocido|\n",
        "|---|---|---|---|---|---|\n",
        "|2 dimensiones muy parecidas con <br> lo que se tiene una base aproxima-<br>damente  cuadrada y la 3er dimension <br> es más pequeña respecto a las otras|las 3 medidas son muy similares <br> entre si, generando una forma <br>cercana a la de un cubo| 3 dimensiones que están <br> aproximadamente equidistantes <br> entre sí|2 dimensiones muy parecidas con <br> lo que se tiene una base aproxima-<br>damente  cuadrada y la 3er dimension <br> es más grande respecto a las otras| 2 dimensiones diferentes, y <br> la tercera es más pequeña en <br> comparación con las otras dos| Cualquiera que no sea una <br> de las anteriores|\n",
        "\n",
        "Para ver las referencias visuales estas formas consultar el [repositorio](https://github.com/rafa-cc/Proyecto-Final-R/tree/main/Imagenes)\n",
        "\n",
        "Para ver el análisis de Python consultar el siguiente [archivo](https://colab.research.google.com/drive/1pnK2Lhk898ryd-9OdGD4vEEa8AAO1Pp5?usp=sharing)"
      ],
      "metadata": {
        "id": "855E2aPHAxXo"
      }
    },
    {
      "cell_type": "code",
      "source": [],
      "metadata": {
        "id": "Kuy4pYEGCaH6"
      },
      "execution_count": 19,
      "outputs": []
    }
  ]
}